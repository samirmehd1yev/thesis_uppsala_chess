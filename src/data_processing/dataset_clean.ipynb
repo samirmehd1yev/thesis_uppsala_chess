{
 "cells": [
  {
   "cell_type": "code",
   "execution_count": 5,
   "metadata": {},
   "outputs": [
    {
     "name": "stderr",
     "output_type": "stream",
     "text": [
      "/var/folders/1r/jcq7c7353hsb6scsnq4g2pp00000gn/T/ipykernel_73720/2509605673.py:5: DtypeWarning: Columns (3,9,10,12,13,14,17,18) have mixed types. Specify dtype option on import or set low_memory=False.\n",
      "  df = pd.read_csv(file_path)\n"
     ]
    },
    {
     "name": "stdout",
     "output_type": "stream",
     "text": [
      "334\n",
      "235\n"
     ]
    }
   ],
   "source": [
    "import pandas as pd\n",
    "\n",
    "# Define path to your file\n",
    "file_path = '/Users/samir/Desktop/Uppsala/Thesis/thesis_chess_code/data/processed/lumbrasgigabase/chess_games_clean.csv'\n",
    "df = pd.read_csv(file_path)\n",
    "\n",
    "# Tal, Mikhail number of games for white and black\n",
    "print(df[df['white'] == 'Tal, Mikhail']['white'].count())\n",
    "print(df[df['black'] == 'Tal, Mikhail']['black'].count())"
   ]
  },
  {
   "cell_type": "code",
   "execution_count": 7,
   "metadata": {},
   "outputs": [
    {
     "name": "stdout",
     "output_type": "stream",
     "text": [
      "year\n",
      "2024    513407\n",
      "2023    386176\n",
      "2022    314111\n",
      "2021    292853\n",
      "2012    290907\n",
      "         ...  \n",
      "1803         1\n",
      "1819         1\n",
      "1833         1\n",
      "1815         1\n",
      "1836         1\n",
      "Name: count, Length: 210, dtype: int64\n",
      "year\n",
      "2024    513407\n",
      "2023    386176\n",
      "2022    314111\n",
      "2021    292853\n",
      "2012    290907\n",
      "         ...  \n",
      "1952      2032\n",
      "1954      1999\n",
      "1951      1729\n",
      "1953      1465\n",
      "1950      1230\n",
      "Name: count, Length: 75, dtype: int64\n"
     ]
    }
   ],
   "source": [
    "# number of games for each year \n",
    "df['year'] = df['date'].str[:4]\n",
    "print(df['year'].value_counts())\n",
    "\n",
    "# drop games older than 1950\n",
    "df = df[df['year'] >= '1950']\n",
    "\n",
    "# number of games for each year\n",
    "print(df['year'].value_counts())\n",
    "\n",
    "# save df\n",
    "df.to_csv('/Users/samir/Desktop/Uppsala/Thesis/thesis_chess_code/data/processed/lumbrasgigabase/chess_games_clean_1950.csv', index=False)"
   ]
  },
  {
   "cell_type": "code",
   "execution_count": 3,
   "metadata": {},
   "outputs": [
    {
     "name": "stderr",
     "output_type": "stream",
     "text": [
      "/var/folders/1r/jcq7c7353hsb6scsnq4g2pp00000gn/T/ipykernel_81081/420126921.py:5: DtypeWarning: Columns (3,9,10,12,13,14,17,18) have mixed types. Specify dtype option on import or set low_memory=False.\n",
      "  df = pd.read_csv(file_path)\n"
     ]
    },
    {
     "name": "stdout",
     "output_type": "stream",
     "text": [
      "len of df: 7210258\n",
      "len of df: 6455719\n"
     ]
    }
   ],
   "source": [
    "import pandas as pd\n",
    "\n",
    "# Define path to your file\n",
    "file_path = '/Users/samir/Desktop/Uppsala/Thesis/thesis_chess_code/data/processed/lumbrasgigabase/chess_games_clean_1950.csv'\n",
    "df = pd.read_csv(file_path)\n",
    "\n",
    "# len of df\n",
    "print(f'len of df: {len(df)}')\n",
    "\n",
    "# remove where event starts with Titled Tue, first change dtype to string\n",
    "df['event'] = df['event'].astype(str)\n",
    "df = df[~df['event'].str.startswith('Titled Tue')]\n",
    "\n",
    "# save df\n",
    "df.to_csv('/Users/samir/Desktop/Uppsala/Thesis/thesis_chess_code/data/processed/lumbrasgigabase/chess_games_clean_1950_no_titled_tue.csv', index=False)\n",
    "\n",
    "# len of df\n",
    "print(f'len of df: {len(df)}')\n"
   ]
  },
  {
   "cell_type": "code",
   "execution_count": 1,
   "metadata": {},
   "outputs": [
    {
     "name": "stderr",
     "output_type": "stream",
     "text": [
      "/var/folders/1r/jcq7c7353hsb6scsnq4g2pp00000gn/T/ipykernel_87669/1074453851.py:5: DtypeWarning: Columns (3,9,10,12,13,14,17,18) have mixed types. Specify dtype option on import or set low_memory=False.\n",
      "  df = pd.read_csv(file_path)\n"
     ]
    },
    {
     "name": "stdout",
     "output_type": "stream",
     "text": [
      "len of df: 6455719\n",
      "len of df: 6446169\n"
     ]
    }
   ],
   "source": [
    "import pandas as pd\n",
    "\n",
    "# Define path to your file\n",
    "file_path = '/Users/samir/Desktop/Uppsala/Thesis/thesis_chess_code/data/processed/lumbrasgigabase/chess_games_clean_1950_no_titled_tue.csv'\n",
    "df = pd.read_csv(file_path)\n",
    "\n",
    "# len of df\n",
    "print(f'len of df: {len(df)}')\n",
    "\n",
    "# remove where white_title or black_title is BOT\n",
    "df = df[df['white_title'] != 'BOT']\n",
    "df = df[df['black_title'] != 'BOT']\n",
    "\n",
    "# len of df\n",
    "print(f'len of df: {len(df)}')\n",
    "\n",
    "# save df\n",
    "df.to_csv('/Users/samir/Desktop/Uppsala/Thesis/thesis_chess_code/data/processed/lumbrasgigabase/chess_games_clean_1950_no_titled_tue_no_bot.csv', index=False)\n"
   ]
  },
  {
   "cell_type": "code",
   "execution_count": 3,
   "metadata": {},
   "outputs": [
    {
     "name": "stdout",
     "output_type": "stream",
     "text": [
      "len of df: 6168499\n"
     ]
    }
   ],
   "source": [
    "# remove events that contains rapid or blitz or bullet lower case\n",
    "# First ensure event column is string type to avoid float error\n",
    "df['event'] = df['event'].astype(str)\n",
    "# Then filter out rows containing rapid, blitz, or bullet\n",
    "df = df[~df['event'].str.contains('rapid|blitz|bullet', case=False)]\n",
    "\n",
    "# len of df\n",
    "print(f'len of df: {len(df)}')\n",
    "\n",
    "# save df\n",
    "df.to_csv('/Users/samir/Desktop/Uppsala/Thesis/thesis_chess_code/data/processed/lumbrasgigabase/chess_games_clean_1950_no_titled_tue_no_bot_no_rapid_blitz_bullet.csv', index=False)"
   ]
  },
  {
   "cell_type": "code",
   "execution_count": 4,
   "metadata": {},
   "outputs": [
    {
     "name": "stdout",
     "output_type": "stream",
     "text": [
      "event                    0\n",
      "site                152191\n",
      "date                     0\n",
      "round                71159\n",
      "white                    0\n",
      "black                    0\n",
      "result                   0\n",
      "white_elo           807775\n",
      "black_elo           817754\n",
      "white_title        5785962\n",
      "black_title        5789348\n",
      "eco                      0\n",
      "opening            6118995\n",
      "time_control       6109793\n",
      "import_date        5946679\n",
      "source                   0\n",
      "moves                    0\n",
      "eval_info          6129366\n",
      "clock_info         6040632\n",
      "avg_elo            1115993\n",
      "elo_difference     1115993\n",
      "move_count               0\n",
      "result_category          0\n",
      "has_eval_info            0\n",
      "has_clock_info           0\n",
      "eco_family               0\n",
      "year                     0\n",
      "dtype: int64\n"
     ]
    }
   ],
   "source": [
    "# null count\n",
    "print(df.isnull().sum())\n",
    "\n"
   ]
  },
  {
   "cell_type": "code",
   "execution_count": 1,
   "metadata": {},
   "outputs": [
    {
     "name": "stderr",
     "output_type": "stream",
     "text": [
      "/var/folders/1r/jcq7c7353hsb6scsnq4g2pp00000gn/T/ipykernel_96425/478696407.py:5: DtypeWarning: Columns (3,9,10,12,13,14,17,18) have mixed types. Specify dtype option on import or set low_memory=False.\n",
      "  df = pd.read_csv(file_path)\n"
     ]
    },
    {
     "name": "stdout",
     "output_type": "stream",
     "text": [
      "len of df: 6168499\n",
      "len of df: 379151\n",
      "len of df: 379151\n"
     ]
    }
   ],
   "source": [
    "import pandas as pd\n",
    "\n",
    "# Define path to your file\n",
    "file_path = '/Users/samir/Desktop/Uppsala/Thesis/thesis_chess_code/data/processed/lumbrasgigabase/chess_games_clean_1950_no_titled_tue_no_bot_no_rapid_blitz_bullet.csv'\n",
    "df = pd.read_csv(file_path)\n",
    "print(f'len of df: {len(df)}')\n",
    "\n",
    "# remove rows where white_title or black_title is None\n",
    "df2 = df[df['white_title'].notna()]\n",
    "df2 = df[df['black_title'].notna()]\n",
    "\n",
    "# len of df\n",
    "print(f'len of df: {len(df2)}')\n",
    "\n",
    "# save df\n",
    "df2.to_csv('/Users/samir/Desktop/Uppsala/Thesis/thesis_chess_code/data/processed/lumbrasgigabase/chess_games_clean_1950_no_titled_tue_no_bot_no_rapid_blitz_bullet_title_not_none.csv', index=False)\n",
    "\n",
    "# len of df\n",
    "print(f'len of df: {len(df2)}')"
   ]
  },
  {
   "cell_type": "code",
   "execution_count": 3,
   "metadata": {},
   "outputs": [
    {
     "name": "stdout",
     "output_type": "stream",
     "text": [
      "len of df: 6168499\n",
      "len of df3: 1774288\n"
     ]
    }
   ],
   "source": [
    "# in df remove where unique player has less than 100 games\n",
    "# Get players with at least 100 games\n",
    "frequent_white_players = df['white'].value_counts()[df['white'].value_counts() >= 100].index\n",
    "frequent_black_players = df['black'].value_counts()[df['black'].value_counts() >= 100].index\n",
    "\n",
    "# Filter the dataframe to only include games where both players have at least 100 games\n",
    "df3 = df[df['white'].isin(frequent_white_players) & df['black'].isin(frequent_black_players)]\n",
    "\n",
    "# len of df\n",
    "print(f'len of df: {len(df)}')\n",
    "\n",
    "# len of df3\n",
    "print(f'len of df3: {len(df3)}')\n",
    "\n",
    "# save df3\n",
    "df3.to_csv('/Users/samir/Desktop/Uppsala/Thesis/thesis_chess_code/data/processed/lumbrasgigabase/chess_games_clean_1950_no_titled_tue_no_bot_no_rapid_blitz_bullet_min_100_games.csv', index=False)\n"
   ]
  },
  {
   "cell_type": "code",
   "execution_count": 6,
   "metadata": {},
   "outputs": [
    {
     "name": "stdout",
     "output_type": "stream",
     "text": [
      "source\n",
      "LumbrasGigaBase    1774288\n",
      "Name: count, dtype: int64\n",
      "len of df4: 1748577\n"
     ]
    }
   ],
   "source": [
    "# df3 source value counts\n",
    "print(df3['source'].value_counts())\n",
    "\n",
    "\n",
    "# remove where event contains speed\n",
    "df4 = df3[~df3['event'].fillna('').str.contains('speed', case=False)]\n",
    "\n",
    "# len of df4\n",
    "print(f'len of df4: {len(df4)}')\n",
    "\n",
    "# save df4\n",
    "df4.to_csv('/Users/samir/Desktop/Uppsala/Thesis/thesis_chess_code/data/processed/lumbrasgigabase/chess_games_clean_1950_no_titled_tue_no_bot_no_rapid_blitz_bullet_min_100_games_no_speed.csv', index=False)"
   ]
  },
  {
   "cell_type": "code",
   "execution_count": null,
   "metadata": {},
   "outputs": [
    {
     "name": "stdout",
     "output_type": "stream",
     "text": [
      "len of df5: 1681321\n",
      "len of df5: 1681321\n"
     ]
    }
   ],
   "source": [
    "# remove where site contains chess.com\n",
    "df5 = df4[~df4['site'].fillna('').str.contains('chess.com', case=False)]\n",
    "\n",
    "# len of df5\n",
    "print(f'len of df5: {len(df5)}')\n",
    "\n",
    "\n",
    "# save df5\n",
    "df5.to_csv('/Users/samir/Desktop/Uppsala/Thesis/thesis_chess_code/data/processed/lumbrasgigabase/chess_games_clean_1950_no_titled_tue_no_bot_no_rapid_blitz_bullet_min_100_games_no_speed_no_chess_com.csv', index=False)\n",
    "\n",
    "# len of df5\n",
    "print(f'len of df5: {len(df5)}')\n",
    "\n"
   ]
  },
  {
   "cell_type": "code",
   "execution_count": 9,
   "metadata": {},
   "outputs": [
    {
     "name": "stdout",
     "output_type": "stream",
     "text": [
      "len of df6: 542231\n"
     ]
    }
   ],
   "source": [
    "# remove where white_elo or black_elo less than 2400\n",
    "df6 = df5[df5['white_elo'].fillna(0) >= 2400]\n",
    "df6 = df6[df6['black_elo'].fillna(0) >= 2400]\n",
    "\n",
    "# len of df6\n",
    "print(f'len of df6: {len(df6)}')\n",
    "\n",
    "# save df6\n",
    "df6.to_csv('/Users/samir/Desktop/Uppsala/Thesis/thesis_chess_code/data/processed/lumbrasgigabase/chess_games_clean_1950_no_titled_tue_no_bot_no_rapid_blitz_bullet_min_100_games_no_speed_no_chess_com_elo_2400.csv', index=False)\n",
    "\n"
   ]
  },
  {
   "cell_type": "code",
   "execution_count": 10,
   "metadata": {},
   "outputs": [
    {
     "name": "stdout",
     "output_type": "stream",
     "text": [
      "unique players count white: 5007\n",
      "unique players count black: 4964\n"
     ]
    }
   ],
   "source": [
    "# unique players count\n",
    "print(f'unique players count white: {len(df6[\"white\"].unique())}')\n",
    "print(f'unique players count black: {len(df6[\"black\"].unique())}')\n"
   ]
  },
  {
   "cell_type": "code",
   "execution_count": 11,
   "metadata": {},
   "outputs": [
    {
     "name": "stdout",
     "output_type": "stream",
     "text": [
      "len of df7: 541559\n",
      "len of df7: 541559\n"
     ]
    }
   ],
   "source": [
    "# remove where white or black contains stockfish, alphazero, leela, komodo, houdini\n",
    "df7 = df6[~df6['white'].str.contains('stockfish|alphazero|leela|komodo|houdini', case=False)]\n",
    "df7 = df7[~df7['black'].str.contains('stockfish|alphazero|leela|komodo|houdini', case=False)]\n",
    "\n",
    "# len of df7\n",
    "print(f'len of df7: {len(df7)}')\n",
    "\n",
    "# save df7\n",
    "df7.to_csv('/Users/samir/Desktop/Uppsala/Thesis/thesis_chess_code/data/processed/lumbrasgigabase/chess_games_clean_1950_no_titled_tue_no_bot_no_rapid_blitz_bullet_min_100_games_no_speed_no_chess_com_elo_2400_no_stockfish_alphazero_leela_komodo_houdini.csv', index=False)\n",
    "\n",
    "# len of df7\n",
    "print(f'len of df7: {len(df7)}')\n",
    "\n"
   ]
  },
  {
   "cell_type": "code",
   "execution_count": 12,
   "metadata": {},
   "outputs": [
    {
     "name": "stdout",
     "output_type": "stream",
     "text": [
      "len of stockfish_names: 4369\n"
     ]
    }
   ],
   "source": [
    "# unique names that contain stockfish, alphazero, leela, komodo, houdini, bot, fish, zero\n",
    "stockfish_names = df7[df7['white'].str.contains('stockfish|alphazero|leela|komodo|houdini|bot|fish|zero', case=False)]\n",
    "\n",
    "# len of stockfish_names\n",
    "print(f'len of stockfish_names: {len(stockfish_names)}')\n",
    "\n",
    "# save unique names as txt\n",
    "with open('/Users/samir/Desktop/Uppsala/Thesis/thesis_chess_code/data/processed/lumbrasgigabase/bot_names.txt', 'w') as f:\n",
    "    for name in stockfish_names['white'].unique():\n",
    "        f.write(name + '\\n')\n"
   ]
  },
  {
   "cell_type": "code",
   "execution_count": 13,
   "metadata": {},
   "outputs": [
    {
     "name": "stdout",
     "output_type": "stream",
     "text": [
      "len of df8: 535597\n"
     ]
    }
   ],
   "source": [
    "# remove where white or black is in the list of bot names\n",
    "bot_names = [\n",
    "    'FireFishBOT_v2',\n",
    "    'LBOT007',\n",
    "    'Nikitosikbot_v2',\n",
    "    'RaspFish',\n",
    "    'ResoluteBot',\n",
    "    'yobot_v2',\n",
    "    'YoBot_v2',\n",
    "    'Fishbein,A',\n",
    "    'M-Z_Bot',\n",
    "    'MrChessTheBot',\n",
    "    'Nikitosikbot',\n",
    "    'NikitosikVariantsbot',\n",
    "    'sf_bot',\n",
    "    'Shineshou90_BOT'\n",
    "]\n",
    "\n",
    "df8 = df7.copy()\n",
    "for bot_name in bot_names:\n",
    "    df8 = df8[~df8['white'].str.contains(bot_name, case=True, regex=False)]\n",
    "    df8 = df8[~df8['black'].str.contains(bot_name, case=True, regex=False)]\n",
    "\n",
    "# len of df8\n",
    "print(f'len of df8: {len(df8)}')\n",
    "\n",
    "# save df8\n",
    "df8.to_csv('/Users/samir/Desktop/Uppsala/Thesis/thesis_chess_code/data/processed/lumbrasgigabase/chess_games_clean_1950_no_titled_tue_no_bot_no_rapid_blitz_bullet_min_100_games_no_speed_no_chess_com_elo_2400_no_bots.csv', index=False)\n",
    "\n"
   ]
  }
 ],
 "metadata": {
  "kernelspec": {
   "display_name": "chess",
   "language": "python",
   "name": "python3"
  },
  "language_info": {
   "codemirror_mode": {
    "name": "ipython",
    "version": 3
   },
   "file_extension": ".py",
   "mimetype": "text/x-python",
   "name": "python",
   "nbconvert_exporter": "python",
   "pygments_lexer": "ipython3",
   "version": "3.12.8"
  }
 },
 "nbformat": 4,
 "nbformat_minor": 2
}
