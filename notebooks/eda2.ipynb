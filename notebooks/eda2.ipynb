{
 "cells": [
  {
   "cell_type": "code",
   "execution_count": 2,
   "metadata": {},
   "outputs": [
    {
     "name": "stdout",
     "output_type": "stream",
     "text": [
      "Loaded 99422 rows with 48 columns.\n",
      "            player_name player_color     opponent_name  player_elo  \\\n",
      "0  Kupreichik, Viktor D        white      Tal, Mikhail      2540.0   \n",
      "1           Keres, Paul        white      Tal, Mikhail         NaN   \n",
      "2          Tal, Mikhail        white  Keene, Raymond D         NaN   \n",
      "3        Klovans, Janis        white      Tal, Mikhail         NaN   \n",
      "4          Tal, Mikhail        white        Benko, Pal         NaN   \n",
      "\n",
      "         date  eco eco_family  \\\n",
      "0  1979-12-01  B97          B   \n",
      "1  1961-10-16  D30          D   \n",
      "2  1964-01-10  B15          B   \n",
      "3  1951-01-01  C52          C   \n",
      "4  1959-01-01  B27          A   \n",
      "\n",
      "                                        opening_name player_type  game_id  \\\n",
      "0  Sicilian Defense: Najdorf Variation, Poisoned ...         NaN        0   \n",
      "1      Queen's Gambit Declined: Capablanca Variation         NaN        1   \n",
      "2                 Caro-Kann Defense: Alekhine Gambit    Activist        2   \n",
      "3     Italian Game: Evans Gambit, Sokolsky Variation         NaN        3   \n",
      "4              Modern Defense: Pterodactyl Variation    Activist        4   \n",
      "\n",
      "   ... blunder_count  top_move_alignment  top2_3_move_alignment  sharpness  \\\n",
      "0  ...      0.000000            0.700000               0.220000   2.501763   \n",
      "1  ...      0.000000            0.315789               0.473684   1.501872   \n",
      "2  ...      0.033333            0.533333               0.133333   2.021509   \n",
      "3  ...      0.000000            0.475000               0.200000   8.298026   \n",
      "4  ...      0.100000            0.433333               0.333333   2.700204   \n",
      "\n",
      "   total_moves  opening_length  middlegame_length  endgame_length  \\\n",
      "0           50        0.240000           0.320000        0.440000   \n",
      "1           19        0.736842           0.263158        0.000000   \n",
      "2           30        0.400000           0.466667        0.133333   \n",
      "3           40        0.175000           0.725000        0.100000   \n",
      "4           30        0.266667           0.733333        0.000000   \n",
      "\n",
      "   material_balance_std  opening_novelty_score  \n",
      "0     1.319810592471511               0.583333  \n",
      "1    1.8029123929484048               0.214286  \n",
      "2      1.43158970128661               0.333333  \n",
      "3     1.791187423277396               1.000000  \n",
      "4    1.2310790208412925               0.375000  \n",
      "\n",
      "[5 rows x 48 columns]\n",
      "Found 96 players with at least 100 games.\n",
      "Selecting best features from 96 players with 40 columns.\n",
      "All features: ['player_name', 'player_type', 'eco_numeric_avg', 'num_games', 'player_elo', 'minor_piece_development', 'queen_development', 'queen_lifetime', 'castle_move', 'material_changes', 'piece_mobility_avg', 'pawn_structure_changes', 'pawn_control', 'center_control_avg', 'space_advantage', 'king_safety', 'vulnerability_spikes', 'check_frequency', 'critical_performance', 'weighted_alignment', 'accuracy', 'opening_accuracy', 'middlegame_accuracy', 'endgame_accuracy', 'avg_eval_change', 'sacrifice_count', 'prophylactic_frequency', 'brilliant_count', 'great_count', 'good_moves', 'inaccuracy_count', 'mistake_count', 'blunder_count', 'top_move_alignment', 'top2_3_move_alignment', 'sharpness', 'opening_length', 'middlegame_length', 'endgame_length', 'opening_novelty_score']\n",
      "Selected features: ['material_changes', 'space_advantage', 'top2_3_move_alignment', 'brilliant_count', 'check_frequency', 'vulnerability_spikes', 'endgame_length', 'queen_lifetime', 'center_control_avg', 'sharpness', 'sacrifice_count', 'piece_mobility_avg', 'top_move_alignment', 'opening_novelty_score', 'endgame_accuracy']\n",
      "PCA explained variance ratios: [0.35282014 0.26084327 0.10789986]\n",
      "PCA components:\n",
      "Component 1:\n",
      "material_changes         0.253854\n",
      "space_advantage          0.270998\n",
      "top2_3_move_alignment   -0.341378\n",
      "brilliant_count          0.214835\n",
      "check_frequency          0.199929\n",
      "vulnerability_spikes     0.291943\n",
      "endgame_length           0.323030\n",
      "queen_lifetime          -0.279221\n",
      "center_control_avg      -0.270207\n",
      "sharpness                0.189889\n",
      "sacrifice_count          0.084199\n",
      "piece_mobility_avg      -0.038383\n",
      "top_move_alignment       0.302180\n",
      "opening_novelty_score    0.225128\n",
      "endgame_accuracy         0.363707\n",
      "dtype: float64\n",
      "Component 2:\n",
      "material_changes         0.111915\n",
      "space_advantage          0.304815\n",
      "top2_3_move_alignment   -0.192682\n",
      "brilliant_count          0.337504\n",
      "check_frequency          0.357670\n",
      "vulnerability_spikes     0.071571\n",
      "endgame_length          -0.329487\n",
      "queen_lifetime           0.302312\n",
      "center_control_avg       0.048430\n",
      "sharpness               -0.033128\n",
      "sacrifice_count          0.513687\n",
      "piece_mobility_avg       0.055085\n",
      "top_move_alignment      -0.139647\n",
      "opening_novelty_score   -0.018936\n",
      "endgame_accuracy        -0.346860\n",
      "dtype: float64\n",
      "Component 3:\n",
      "material_changes        -0.140673\n",
      "space_advantage          0.127039\n",
      "top2_3_move_alignment   -0.179084\n",
      "brilliant_count          0.106278\n",
      "check_frequency         -0.247411\n",
      "vulnerability_spikes    -0.296421\n",
      "endgame_length          -0.157900\n",
      "queen_lifetime           0.182397\n",
      "center_control_avg       0.180451\n",
      "sharpness               -0.041344\n",
      "sacrifice_count         -0.110546\n",
      "piece_mobility_avg       0.478781\n",
      "top_move_alignment       0.511805\n",
      "opening_novelty_score    0.418454\n",
      "endgame_accuracy        -0.025610\n",
      "dtype: float64\n"
     ]
    },
    {
     "data": {
      "image/png": "[encoded data removed]",
      "text/plain": [
       "<Figure size 1000x800 with 1 Axes>"
      ]
     },
     "metadata": {},
     "output_type": "display_data"
    },
    {
     "name": "stdout",
     "output_type": "stream",
     "text": [
      "PCA (all features) explained variance ratios: [0.38323531 0.23960099 0.08299346]\n",
      "PCA components:\n",
      "Component 1:\n",
      "eco_numeric_avg            0.103732\n",
      "player_elo                 0.132290\n",
      "minor_piece_development   -0.217454\n",
      "queen_development         -0.113644\n",
      "queen_lifetime            -0.192308\n",
      "castle_move               -0.181519\n",
      "material_changes          -0.015174\n",
      "piece_mobility_avg         0.028992\n",
      "pawn_structure_changes    -0.214662\n",
      "pawn_control               0.123266\n",
      "center_control_avg        -0.056964\n",
      "space_advantage           -0.056199\n",
      "king_safety                0.056741\n",
      "vulnerability_spikes       0.007847\n",
      "check_frequency           -0.120139\n",
      "critical_performance       0.197066\n",
      "weighted_alignment         0.250371\n",
      "accuracy                   0.182502\n",
      "opening_accuracy           0.264158\n",
      "middlegame_accuracy        0.225739\n",
      "endgame_accuracy           0.265947\n",
      "avg_eval_change           -0.179829\n",
      "sacrifice_count           -0.204427\n",
      "prophylactic_frequency    -0.102369\n",
      "brilliant_count           -0.049399\n",
      "great_count               -0.216843\n",
      "good_moves                 0.208697\n",
      "inaccuracy_count          -0.214284\n",
      "mistake_count             -0.157273\n",
      "blunder_count             -0.158056\n",
      "top_move_alignment         0.191077\n",
      "top2_3_move_alignment     -0.002415\n",
      "sharpness                  0.059567\n",
      "opening_length            -0.198741\n",
      "middlegame_length         -0.130712\n",
      "endgame_length             0.232462\n",
      "opening_novelty_score      0.070039\n",
      "dtype: float64\n",
      "Component 2:\n",
      "eco_numeric_avg           -0.152484\n",
      "player_elo                -0.130866\n",
      "minor_piece_development    0.100114\n",
      "queen_development          0.154771\n",
      "queen_lifetime             0.129413\n",
      "castle_move                0.201237\n",
      "material_changes          -0.211846\n",
      "piece_mobility_avg         0.039662\n",
      "pawn_structure_changes     0.177493\n",
      "pawn_control               0.019523\n",
      "center_control_avg         0.196923\n",
      "space_advantage           -0.263120\n",
      "king_safety                0.179185\n",
      "vulnerability_spikes      -0.259514\n",
      "check_frequency           -0.234383\n",
      "critical_performance       0.099866\n",
      "weighted_alignment         0.096784\n",
      "accuracy                   0.120460\n",
      "opening_accuracy           0.111619\n",
      "middlegame_accuracy        0.055135\n",
      "endgame_accuracy          -0.174163\n",
      "avg_eval_change           -0.155206\n",
      "sacrifice_count           -0.176384\n",
      "prophylactic_frequency     0.268545\n",
      "brilliant_count           -0.194016\n",
      "great_count               -0.155684\n",
      "good_moves                 0.150522\n",
      "inaccuracy_count          -0.139623\n",
      "mistake_count             -0.118699\n",
      "blunder_count             -0.134386\n",
      "top_move_alignment        -0.107270\n",
      "top2_3_move_alignment      0.257783\n",
      "sharpness                 -0.175854\n",
      "opening_length             0.171931\n",
      "middlegame_length          0.035541\n",
      "endgame_length            -0.159293\n",
      "opening_novelty_score     -0.139301\n",
      "dtype: float64\n",
      "Component 3:\n",
      "eco_numeric_avg            0.218007\n",
      "player_elo                 0.209323\n",
      "minor_piece_development    0.235787\n",
      "queen_development          0.249607\n",
      "queen_lifetime             0.096494\n",
      "castle_move                0.122825\n",
      "material_changes           0.075385\n",
      "piece_mobility_avg         0.110466\n",
      "pawn_structure_changes     0.096334\n",
      "pawn_control              -0.036470\n",
      "center_control_avg         0.026418\n",
      "space_advantage            0.174565\n",
      "king_safety                0.058471\n",
      "vulnerability_spikes      -0.076660\n",
      "check_frequency            0.058414\n",
      "critical_performance       0.082817\n",
      "weighted_alignment         0.162514\n",
      "accuracy                   0.130477\n",
      "opening_accuracy           0.101757\n",
      "middlegame_accuracy        0.113070\n",
      "endgame_accuracy          -0.117721\n",
      "avg_eval_change           -0.089428\n",
      "sacrifice_count            0.165382\n",
      "prophylactic_frequency    -0.009457\n",
      "brilliant_count            0.258204\n",
      "great_count                0.109278\n",
      "good_moves                 0.059839\n",
      "inaccuracy_count          -0.104190\n",
      "mistake_count             -0.074350\n",
      "blunder_count             -0.081727\n",
      "top_move_alignment         0.389045\n",
      "top2_3_move_alignment     -0.279004\n",
      "sharpness                 -0.237882\n",
      "opening_length             0.193900\n",
      "middlegame_length          0.030632\n",
      "endgame_length            -0.175654\n",
      "opening_novelty_score      0.332904\n",
      "dtype: float64\n"
     ]
    },
    {
     "data": {
      "image/png": "[encoded data removed]",
      "text/plain": [
       "<Figure size 1000x800 with 1 Axes>"
      ]
     },
     "metadata": {},
     "output_type": "display_data"
    },
    {
     "name": "stdout",
     "output_type": "stream",
     "text": [
      "AUC for Activist: 0.7222222222222223\n",
      "AUC for Pragmatist: 0.5384615384615384\n",
      "AUC for Reflector: 0.3846153846153846\n",
      "AUC for Theorist: 0.76\n",
      "Mean AUC Score (Decision Boundary Score): 0.6013247863247864\n"
     ]
    }
   ],
   "source": [
    "import pandas as pd\n",
    "import numpy as np\n",
    "import seaborn as sns\n",
    "import matplotlib.pyplot as plt\n",
    "import plotly.express as px\n",
    "\n",
    "from sklearn.ensemble import RandomForestClassifier, RandomForestRegressor\n",
    "from sklearn.impute import SimpleImputer\n",
    "from sklearn.preprocessing import MinMaxScaler, LabelEncoder\n",
    "from sklearn.decomposition import PCA\n",
    "from sklearn.model_selection import train_test_split\n",
    "from sklearn.metrics import roc_auc_score, roc_curve\n",
    "\n",
    "import warnings\n",
    "warnings.filterwarnings('ignore')\n",
    "\n",
    "# -------------------------------\n",
    "# Step 1. Aggregate Game-Level Data to Player Level\n",
    "# -------------------------------\n",
    "def aggregate_player_data(players_df, min_games=3):\n",
    "    \"\"\"\n",
    "    Aggregate game-level data into a player-level DataFrame.\n",
    "    Only players with at least `min_games` games are included.\n",
    "    Averages are computed for numeric features.\n",
    "    'None' player types are replaced with 'Unknown'.\n",
    "    \"\"\"\n",
    "    # Identify players with enough games\n",
    "    game_counts = players_df['player_name'].value_counts()\n",
    "    players_with_enough_games = game_counts[game_counts >= min_games].index.tolist()\n",
    "    print(f\"Found {len(players_with_enough_games)} players with at least {min_games} games.\")\n",
    "\n",
    "    # Filter to these players\n",
    "    filtered_df = players_df[players_df['player_name'].isin(players_with_enough_games)].copy()\n",
    "\n",
    "    # Columns that we will ignore for numeric aggregation\n",
    "    ignore_cols = ['player_name', 'player_color', 'opponent_name', 'game_id', 'result', 'player_type', 'date', 'total_moves']\n",
    "    numeric_cols = [col for col in filtered_df.columns\n",
    "                    if col not in ignore_cols and pd.api.types.is_numeric_dtype(filtered_df[col])]\n",
    "    \n",
    "\n",
    "    \n",
    "    \n",
    "    \n",
    "    # impute missing values based on the mean of each player\n",
    "    filtered_df[numeric_cols] = filtered_df.groupby('player_name')[numeric_cols].transform(lambda x: x.fillna(x.mean()))\n",
    "    \n",
    "    \n",
    "    \n",
    "\n",
    "    aggregated_data = []\n",
    "\n",
    "    for player in players_with_enough_games:\n",
    "        player_games = filtered_df[filtered_df['player_name'] == player]\n",
    "        # Get the first non-NaN player_type if available, default to 'Unknown'\n",
    "        if 'player_type' in player_games.columns:\n",
    "            p_type_series = player_games['player_type'].dropna()\n",
    "            p_type = p_type_series.iloc[0] if not p_type_series.empty else 'Unknown' # Changed None to 'Unknown'\n",
    "        else:\n",
    "            p_type = 'Unknown' # Changed None to 'Unknown'\n",
    "\n",
    "        \n",
    "        \n",
    "        \n",
    "        player_stats = {\n",
    "            'player_name': player,\n",
    "            'player_type': p_type,\n",
    "            'eco_numeric_avg': 0.5,  # Default value for missing data\n",
    "            'num_games': len(player_games)\n",
    "            \n",
    "        }\n",
    "        player_ecos = player_games['eco'].dropna()\n",
    "        \n",
    "        if not player_ecos.empty:\n",
    "            # Convert each ECO code to a numerical value\n",
    "            # Format is a letter (A-E) followed by two digits (00-99)\n",
    "            # We'll convert to a value between 0-1\n",
    "            \n",
    "            # First, convert the letter to a value (A=0, B=0.2, C=0.4, D=0.6, E=0.8)\n",
    "            letter_values = {'A': 0, 'B': 0.2, 'C': 0.4, 'D': 0.6, 'E': 0.8}\n",
    "            \n",
    "            def eco_to_numeric(eco_code):\n",
    "                try:\n",
    "                    if pd.isna(eco_code) or not isinstance(eco_code, str) or len(eco_code) < 3:\n",
    "                        return None\n",
    "                    letter = eco_code[0]\n",
    "                    number = int(eco_code[1:3])\n",
    "                    # Letter contributes the main value (0, 0.2, 0.4, 0.6, 0.8)\n",
    "                    # Number contributes 0-0.199 (scaled from 00-99)\n",
    "                    return letter_values.get(letter, 0) + (number / 500)\n",
    "                except:\n",
    "                    return None\n",
    "            \n",
    "            # Convert all ECO codes to numeric and calculate average\n",
    "            numeric_ecos = [eco_to_numeric(eco) for eco in player_ecos]\n",
    "            numeric_ecos = [x for x in numeric_ecos if x is not None]\n",
    "            \n",
    "            if numeric_ecos:\n",
    "                player_stats['eco_numeric_avg'] = sum(numeric_ecos) / len(numeric_ecos)\n",
    "            else:\n",
    "                player_stats['eco_numeric_avg'] = 0.5  # Default value for missing data\n",
    "        else:\n",
    "            player_stats['eco_numeric_avg'] = 0.5  # Default value for \n",
    "        # Compute averages for each numeric feature\n",
    "        for col in numeric_cols:\n",
    "            player_stats[col] = player_games[col].mean()\n",
    "        aggregated_data.append(player_stats)\n",
    "\n",
    "    agg_df = pd.DataFrame(aggregated_data)\n",
    "    return agg_df\n",
    "\n",
    "# -------------------------------\n",
    "# Step 2. Select Best Features using RandomForest Importance\n",
    "# -------------------------------\n",
    "def select_best_features(agg_df, n_features=15, importance_threshold=0.1):\n",
    "    \"\"\"\n",
    "    Select best numeric features using RandomForestClassifier importance\n",
    "    with 'player_type' as the target.\n",
    "    \"\"\"\n",
    "    metadata = ['player_name', 'player_type', 'num_games']\n",
    "    print(f\"Selecting best features from {len(agg_df)} players with {len(agg_df.columns)} columns.\")\n",
    "    print(f\"All features: {agg_df.columns.tolist()}\")\n",
    "    numeric_cols = [col for col in agg_df.columns if col not in metadata and pd.api.types.is_numeric_dtype(agg_df[col])]\n",
    "\n",
    "\n",
    "    # drop unknown players\n",
    "    agg_df = agg_df[agg_df['player_type'] != 'Unknown']\n",
    "    # reset index to avoid KeyError when accessing rows by position\n",
    "    agg_df = agg_df.reset_index(drop=True)\n",
    "   \n",
    "    X = agg_df[numeric_cols]\n",
    "    y = agg_df['player_type']\n",
    "    \n",
    "\n",
    "\n",
    "\n",
    "    # Encode player_type as numeric\n",
    "    le = LabelEncoder()\n",
    "    y_encoded = le.fit_transform(y)\n",
    "\n",
    "    # Impute and scale\n",
    "    # Impute missing values based on the mean of each player\n",
    "    X = X.groupby(agg_df['player_name']).transform(lambda x: x.fillna(x.mean()))\n",
    "    imputer = SimpleImputer(strategy='mean')\n",
    "    scaler = MinMaxScaler()\n",
    "    X_imputed = imputer.fit_transform(X)\n",
    "    X_scaled = scaler.fit_transform(X_imputed)\n",
    "\n",
    "    # Train RandomForest classifier\n",
    "    rf = RandomForestClassifier(n_estimators=2500, random_state=42)\n",
    "    rf.fit(X_scaled, y_encoded)\n",
    "\n",
    "    importances = rf.feature_importances_\n",
    "    importance_series = pd.Series(importances, index=numeric_cols)\n",
    "\n",
    "    # Normalize importances to the maximum value\n",
    "    importance_series = importance_series / importance_series.max()\n",
    "\n",
    "    # Select features above the importance threshold\n",
    "    selected = importance_series[importance_series > importance_threshold].index.tolist()\n",
    "\n",
    "    # If more than desired n_features, choose the top n_features based on importance\n",
    "    if len(selected) > n_features:\n",
    "        selected = importance_series.sort_values(ascending=False).index[:n_features].tolist()\n",
    "\n",
    "    print(\"Selected features:\", selected)\n",
    "    return selected\n",
    "\n",
    "# -------------------------------\n",
    "# Step 3. Apply PCA to Selected Features\n",
    "# -------------------------------\n",
    "def apply_pca(agg_df, features, n_components=3):\n",
    "    \"\"\"\n",
    "    Scale the selected features, apply PCA and return the transformed data.\n",
    "    \"\"\"\n",
    "    X = agg_df[features]\n",
    "    # Impute missing values based on the mean of each player\n",
    "    X = X.groupby(agg_df['player_name']).transform(lambda x: x.fillna(x.mean()))\n",
    "    imputer = SimpleImputer(strategy='mean')\n",
    "    scaler = MinMaxScaler()\n",
    "\n",
    "    X_imputed = imputer.fit_transform(X)\n",
    "    X_scaled = scaler.fit_transform(X_imputed)\n",
    "\n",
    "    pca = PCA(n_components=n_components, random_state=42)\n",
    "    X_pca = pca.fit_transform(X_scaled)\n",
    "\n",
    "    print(f\"PCA explained variance ratios: {pca.explained_variance_ratio_}\")\n",
    "\n",
    "    # Print the components with feature names\n",
    "    print(\"PCA components:\")\n",
    "    for i, component in enumerate(pca.components_):\n",
    "        feature_weights = pd.Series(component, index=features)\n",
    "        print(f\"Component {i+1}:\")\n",
    "        print(feature_weights)\n",
    "\n",
    "    return X_pca, pca\n",
    "\n",
    "def apply_pca_all_features(agg_df, n_components=2):\n",
    "    \"\"\"\n",
    "    Apply PCA to all numeric features (without any feature selection)\n",
    "    for a 2D visualization.\n",
    "    \"\"\"\n",
    "    metadata = ['player_name', 'player_type', 'num_games']\n",
    "    numeric_cols = [col for col in agg_df.columns \n",
    "                    if col not in metadata and pd.api.types.is_numeric_dtype(agg_df[col])]\n",
    "    \n",
    "    X = agg_df[numeric_cols]\n",
    "    X = X.groupby(agg_df['player_name']).transform(lambda x: x.fillna(x.mean()))\n",
    "    imputer = SimpleImputer(strategy='mean')\n",
    "    scaler = MinMaxScaler()\n",
    "    X_imputed = imputer.fit_transform(X)\n",
    "    X_scaled = scaler.fit_transform(X_imputed)\n",
    "    \n",
    "    pca = PCA(n_components=n_components, random_state=42)\n",
    "    X_pca = pca.fit_transform(X_scaled)\n",
    "    print(f\"PCA (all features) explained variance ratios: {pca.explained_variance_ratio_}\")\n",
    "\n",
    "    # Print the components with feature names\n",
    "    print(\"PCA components:\")\n",
    "    for i, component in enumerate(pca.components_):\n",
    "        feature_weights = pd.Series(component, index=numeric_cols)\n",
    "        print(f\"Component {i+1}:\")\n",
    "        print(feature_weights)\n",
    "    return X_pca, pca\n",
    "\n",
    "# -------------------------------\n",
    "# Step 4. Visualize 2D PCA Result using Seaborn\n",
    "# -------------------------------\n",
    "def visualize_2d_pca(agg_df, X_pca_2d, title='2D PCA of Top 15 Features'):\n",
    "    \"\"\"\n",
    "    Visualize 2D PCA result using a scatter plot.\n",
    "    Points are colored by player_type and labeled by player_name.\n",
    "    \"\"\"\n",
    "    pca_df = pd.DataFrame({\n",
    "        'PC1': X_pca_2d[:, 0],\n",
    "        'PC2': X_pca_2d[:, 1],\n",
    "        'player_type': agg_df['player_type'], # Should now contain 'Unknown' instead of None\n",
    "        'player_name': agg_df['player_name']\n",
    "    })\n",
    "    \n",
    "    # Filter out unknown players AFTER creating the dataframe with all the data\n",
    "    pca_df = pca_df[pca_df['player_type'] != 'Unknown']\n",
    "    \n",
    "    # hide activist \n",
    "    # pca_df = pca_df[pca_df['player_type'] != 'Activist']\n",
    "    \n",
    "    # hide pragmatist\n",
    "    # pca_df = pca_df[pca_df['player_type'] != 'Pragmatist']\n",
    "    \n",
    "    # hide reflector\n",
    "    # pca_df = pca_df[pca_df['player_type'] != 'Reflector']\n",
    "    \n",
    "    # hide theorist\n",
    "    # pca_df = pca_df[pca_df['player_type'] != 'Theorist']\n",
    "    \n",
    "    # Reset the index to avoid KeyError when accessing rows by position\n",
    "    pca_df = pca_df.reset_index(drop=True)\n",
    "\n",
    "    plt.figure(figsize=(10, 8))\n",
    "    # Define the palette, using 'Unknown' as the key for gray\n",
    "    palette = {\n",
    "        'Activist': 'red',\n",
    "        'Theorist': 'blue',\n",
    "        'Pragmatist': 'green',\n",
    "        'Reflector': 'purple',\n",
    "        'Unknown': 'gray' # Changed None key to 'Unknown'\n",
    "    }\n",
    "    ax = sns.scatterplot(data=pca_df, x='PC1', y='PC2', hue='player_type',\n",
    "                         palette=palette, s=100)\n",
    "\n",
    "    # Add labels for each point\n",
    "    for line in range(0,pca_df.shape[0]):\n",
    "         player_name = pca_df.player_name[line]\n",
    "         if ', ' in player_name:\n",
    "             last_name = player_name.split(', ')[0]\n",
    "             ax.text(pca_df.PC1[line], pca_df.PC2[line], last_name, horizontalalignment='left', size='x-small', color='black')\n",
    "         else:\n",
    "             ax.text(pca_df.PC1[line], pca_df.PC2[line], player_name, horizontalalignment='left', size='x-small', color='black')\n",
    "\n",
    "    plt.title(title)\n",
    "    plt.xlabel('PC1')\n",
    "    plt.ylabel('PC2')\n",
    "    plt.legend(title='Player Type')\n",
    "    plt.xlim(X_pca_2d[:, 0].min() - 1, X_pca_2d[:, 0].max() + 1)\n",
    "    plt.ylim(X_pca_2d[:, 1].min() - 1, X_pca_2d[:, 1].max() + 1)\n",
    "    plt.xticks(rotation=45)\n",
    "    plt.tight_layout()\n",
    "    plt.show()\n",
    "\n",
    "# -------------------------------\n",
    "# Step 5. Create Interactive 3D PCA Visualization using Plotly Express\n",
    "# -------------------------------\n",
    "def visualize_3d_pca(agg_df, X_pca_3d):\n",
    "    \"\"\"\n",
    "    Create an interactive 3D scatter plot of the PCA result using Plotly Express.\n",
    "    Points are colored by player_type.\n",
    "    \"\"\"\n",
    "    pca_df = pd.DataFrame({\n",
    "        'PC1': X_pca_3d[:, 0],\n",
    "        'PC2': X_pca_3d[:, 1],\n",
    "        'PC3': X_pca_3d[:, 2],\n",
    "        'player_type': agg_df['player_type'], # Should now contain 'Unknown' instead of None\n",
    "        'player_name': agg_df['player_name']\n",
    "    })\n",
    "\n",
    "    # Define the color map, using 'Unknown' as the key for gray\n",
    "    color_map = {\n",
    "        'Activist': 'red',\n",
    "        'Theorist': 'blue',\n",
    "        'Pragmatist': 'green',\n",
    "        'Reflector': 'purple',\n",
    "        'Unknown': 'gray'  # Changed None key to 'Unknown'\n",
    "    }\n",
    "\n",
    "    fig = px.scatter_3d(\n",
    "        pca_df,\n",
    "        x='PC1', y='PC2', z='PC3',\n",
    "        color='player_type',\n",
    "        hover_data=['player_name'],\n",
    "        color_discrete_map=color_map,\n",
    "        title='Interactive 3D PCA of Top 15 Features'\n",
    "    )\n",
    "    fig.update_traces(marker=dict(size=5))\n",
    "    fig.show()\n",
    "\n",
    "# -------------------------------\n",
    "# Step 6. Decision Boundary Score (AUC)\n",
    "# -------------------------------\n",
    "def calculate_decision_boundary_score(agg_df):\n",
    "    \"\"\"\n",
    "    Calculates the Area Under the ROC Curve (AUC) for a RandomForestClassifier\n",
    "    predicting player_type.  Uses the selected features from the\n",
    "    select_best_features function.  Prints AUC for each class and the mean AUC.\n",
    "    \"\"\"\n",
    "\n",
    "    # Prepare data\n",
    "    agg_df = agg_df.copy()\n",
    "    \n",
    "    # Skip unknown players\n",
    "    agg_df = agg_df[agg_df['player_type'] != 'Unknown']\n",
    "    \n",
    "    le = LabelEncoder()\n",
    "    agg_df['player_type'] = le.fit_transform(agg_df['player_type'])  # Numerical labels\n",
    "\n",
    "    # Select features (using the same logic as before)\n",
    "    metadata = ['player_name', 'player_type', 'num_games']\n",
    "    numeric_cols = [col for col in agg_df.columns if col not in metadata and pd.api.types.is_numeric_dtype(agg_df[col])]\n",
    "\n",
    "    X = agg_df[numeric_cols]\n",
    "    y = agg_df['player_type']\n",
    "    \n",
    "    # Impute missing values based on the mean of each player\n",
    "    X = X.groupby(agg_df['player_name']).transform(lambda x: x.fillna(x.mean()))\n",
    "\n",
    "    # Impute and Scale\n",
    "    imputer = SimpleImputer(strategy='mean')\n",
    "    scaler = MinMaxScaler()\n",
    "    X_imputed = imputer.fit_transform(X)\n",
    "    X_scaled = scaler.fit_transform(X_imputed)\n",
    "\n",
    "    # Train/Test split\n",
    "    X_train, X_test, y_train, y_test = train_test_split(X_scaled, y, test_size=0.3, random_state=42)\n",
    "\n",
    "    # Train RandomForestClassifier\n",
    "    rf_classifier = RandomForestClassifier(n_estimators=5000, random_state=42)\n",
    "    rf_classifier.fit(X_train, y_train)\n",
    "\n",
    "    # Predict probabilities\n",
    "    y_pred_proba = rf_classifier.predict_proba(X_test)\n",
    "\n",
    "    # Calculate AUC (one-vs-rest for multiclass)\n",
    "    auc_scores = {}\n",
    "    for i in range(len(le.classes_)):\n",
    "        try:\n",
    "            auc = roc_auc_score(y_test == i, y_pred_proba[:, i])\n",
    "            auc_scores[le.inverse_transform([i])[0]] = auc\n",
    "            print(f\"AUC for {le.inverse_transform([i])[0]}: {auc}\")\n",
    "        except ValueError as e:\n",
    "            class_name = le.inverse_transform([i])[0]\n",
    "            print(f\"ValueError calculating AUC for class {class_name}: {e}\")\n",
    "            auc_scores[class_name] = 0.5  # Assign a neutral value if AUC cannot be computed\n",
    "\n",
    "    mean_auc = np.mean(list(auc_scores.values()))\n",
    "\n",
    "    print(f\"Mean AUC Score (Decision Boundary Score): {mean_auc}\")\n",
    "    return mean_auc\n",
    "\n",
    "\n",
    "# -------------------------------\n",
    "# Main Function\n",
    "# -------------------------------\n",
    "def main():\n",
    "    # Load the game-level data\n",
    "    input_file = 'player_centric_data.csv'  # Adjust the file path as necessary\n",
    "    df = pd.read_csv(input_file)\n",
    "    print(f\"Loaded {len(df)} rows with {len(df.columns)} columns.\")\n",
    "    print(df.head())\n",
    "\n",
    "    # Aggregate to player level (using a minimum game threshold, e.g., 100)\n",
    "    # This will now replace None player_types with 'Unknown'\n",
    "    agg_df = aggregate_player_data(df, min_games=100)\n",
    "\n",
    "    # Select best features based on importance\n",
    "    selected_features = select_best_features(agg_df, n_features=15, importance_threshold=0.1)\n",
    "\n",
    "    # Apply PCA for 3 components\n",
    "    X_pca, pca_model = apply_pca(agg_df, selected_features, n_components=3)\n",
    "\n",
    "    # Visualize the first 2 components (2D PCA)\n",
    "    # The palette now correctly maps 'Unknown' to gray\n",
    "    visualize_2d_pca(agg_df, X_pca[:, :2])\n",
    "\n",
    "    # Create an interactive 3D PCA visualization\n",
    "    # The color map now correctly maps 'Unknown' to gray\n",
    "    # visualize_3d_pca(agg_df, X_pca)\n",
    "    \n",
    "    \n",
    "    # apply PCA to all features for 2D visualization\n",
    "    X_pca_all, pca_model_all = apply_pca_all_features(agg_df, n_components=3)\n",
    "    visualize_2d_pca(agg_df, X_pca_all[:, :2], title='2D PCA of All Features')\n",
    "    # Create an interactive 3D PCA visualization for all features\n",
    "    # visualize_3d_pca(agg_df, X_pca_all)\n",
    "\n",
    "    # Calculate and print decision boundary score (AUC)\n",
    "    calculate_decision_boundary_score(agg_df)\n",
    "\n",
    "if __name__ == \"__main__\":\n",
    "    main()\n"
   ]
  },
  {
   "cell_type": "code",
   "execution_count": 2,
   "metadata": {},
   "outputs": [
    {
     "data": {
      "text/plain": [
       "70733745037505244"
      ]
     },
     "execution_count": 2,
     "metadata": {},
     "output_type": "execute_result"
    }
   ],
   "source": [
    "70733745037505244"
   ]
  },
  {
   "cell_type": "code",
   "execution_count": null,
   "metadata": {},
   "outputs": [],
   "source": []
  },
  {
   "cell_type": "code",
   "execution_count": null,
   "metadata": {},
   "outputs": [],
   "source": []
  },
  {
   "cell_type": "code",
   "execution_count": null,
   "metadata": {},
   "outputs": [],
   "source": []
  },
  {
   "cell_type": "code",
   "execution_count": null,
   "metadata": {},
   "outputs": [],
   "source": []
  },
  {
   "cell_type": "code",
   "execution_count": null,
   "metadata": {},
   "outputs": [],
   "source": []
  },
  {
   "cell_type": "code",
   "execution_count": 6,
   "metadata": {},
   "outputs": [
    {
     "name": "stdout",
     "output_type": "stream",
     "text": [
      "Loaded 99422 rows with 48 columns.\n",
      "Found 96 players with at least 100 games.\n",
      "\n",
      "Assigned player types for 1 players from provided lists\n",
      "Assigned eras for 48 players\n",
      "\n",
      "Player Era Categorization:\n",
      "  Unknown Era: 48 players\n",
      "  Computer Age: 30 players\n",
      "  Pre-Computer Age: 18 players\n",
      "\n",
      "Player Types in Computer Age:\n",
      "  Theorist: 14 players\n",
      "  Activist: 7 players\n",
      "  Reflector: 5 players\n",
      "  Pragmatist: 4 players\n",
      "\n",
      "Player Types in Pre-Computer Age:\n",
      "  Activist: 8 players\n",
      "  Theorist: 4 players\n",
      "  Pragmatist: 3 players\n",
      "  Reflector: 3 players\n",
      "\n",
      "Player Types in Unknown Era:\n",
      "  Unknown: 46 players\n",
      "  Activist: 2 players\n",
      "\n",
      "Selected features: ['great_count', 'opening_accuracy', 'opening_novelty_score', 'material_changes', 'queen_lifetime', 'player_elo', 'space_advantage', 'center_control_avg', 'check_frequency', 'top2_3_move_alignment', 'sacrifice_count', 'top_move_alignment', 'endgame_length', 'good_moves', 'queen_development']\n"
     ]
    },
    {
     "data": {
      "image/png": "[encoded data removed]",
      "text/plain": [
       "<Figure size 1000x600 with 1 Axes>"
      ]
     },
     "metadata": {},
     "output_type": "display_data"
    },
    {
     "name": "stdout",
     "output_type": "stream",
     "text": [
      "PCA explained variance ratios: [0.38529566 0.30000405 0.10463962]\n"
     ]
    },
    {
     "data": {
      "image/png": "[encoded data removed]",
      "text/plain": [
       "<Figure size 1000x800 with 1 Axes>"
      ]
     },
     "metadata": {},
     "output_type": "display_data"
    },
    {
     "data": {
      "image/png": "[encoded data removed]",
      "text/plain": [
       "<Figure size 1000x800 with 1 Axes>"
      ]
     },
     "metadata": {},
     "output_type": "display_data"
    },
    {
     "data": {
      "image/png": "[encoded data removed]",
      "text/plain": [
       "<Figure size 1000x800 with 1 Axes>"
      ]
     },
     "metadata": {},
     "output_type": "display_data"
    },
    {
     "data": {
      "image/png": "[encoded data removed]",
      "text/plain": [
       "<Figure size 1200x1000 with 1 Axes>"
      ]
     },
     "metadata": {},
     "output_type": "display_data"
    },
    {
     "data": {
      "application/vnd.plotly.v1+json": {
       "config": {
        "plotlyServerURL": "https://plot.ly"
       },
       "data": [
        {
         "customdata": [
          [
           "Carlsen, Magnus",
           2856
          ],
          [
           "Adams, Michael",
           2108
          ],
          [
           "Karpov, Anatoly",
           1435
          ],
          [
           "Bischoff, K.",
           1151
          ],
          [
           "Keymer, Vincent",
           982
          ]
         ],
         "hovertemplate": "player_type=Reflector<br>PC1=%{x}<br>PC2=%{y}<br>PC3=%{z}<br>player_name=%{customdata[0]}<br>num_games=%{customdata[1]}<extra></extra>",
         "legendgroup": "Reflector",
         "marker": {
          "color": "purple",
          "size": 5,
          "symbol": "circle"
         },
         "mode": "markers",
         "name": "Reflector",
         "scene": "scene",
         "showlegend": true,
         "type": "scatter3d",
         "x": {
          "bdata": "zcad2pJSub/4RdQi9SzFv127y9FkU5m/vnxKIcIpsT/b6bu4p2WzPw==",
          "dtype": "f8"
         },
         "y": {
          "bdata": "u0NljFik178qvkPFTabBv8JzVDUkJdI/Zc5hmzWJ9z/aOYOMAajHPw==",
          "dtype": "f8"
         },
         "z": {
          "bdata": "1FnSripSub/N083YSRTbP2Bk8D8LwLM/MTvYQkdeob9tmzQ52tfavw==",
          "dtype": "f8"
         }
        },
        {
         "customdata": [
          [
           "Shirov, Alexei",
           2767
          ],
          [
           "Aronian, Levon",
           2430
          ],
          [
           "Anand, Viswanathan",
           1898
          ],
          [
           "Topalov, Veselin",
           1429
          ],
          [
           "Morozevich, Alexander",
           1344
          ],
          [
           "Kasparov, Garry",
           1043
          ],
          [
           "Polgar, Judit",
           781
          ]
         ],
         "hovertemplate": "player_type=Activist<br>PC1=%{x}<br>PC2=%{y}<br>PC3=%{z}<br>player_name=%{customdata[0]}<br>num_games=%{customdata[1]}<extra></extra>",
         "legendgroup": "Activist",
         "marker": {
          "color": "red",
          "size": 5,
          "symbol": "circle"
         },
         "mode": "markers",
         "name": "Activist",
         "scene": "scene",
         "showlegend": true,
         "type": "scatter3d",
         "x": {
          "bdata": "ux4VU8IQxT9t94vzsizKv/IreV3f68u/DEeEBJFmxL/QgUN/TvLEP1JBTvMeFNo/gsnKV8Xyoz8=",
          "dtype": "f8"
         },
         "y": {
          "bdata": "aFl6bA415L9SyKE/PqnIv5WciePUdNC/r9SJvNsjy7+em67p14/Mv/nQbla/X8u/iKyJIb5J178=",
          "dtype": "f8"
         },
         "z": {
          "bdata": "3NErhbPn3T8LnU1yUWmTv4sDrr105eA/eO52xbo2yj+UC2hqqkCzP5H5Kl4oYdQ/3zg4i4kmzj8=",
          "dtype": "f8"
         }
        },
        {
         "customdata": [
          [
           "Tiviakov, Sergei",
           2460
          ],
          [
           "Sedlak, Nikola",
           2285
          ],
          [
           "Giri, Anish",
           2163
          ],
          [
           "Kramnik, Vladimir",
           1829
          ],
          [
           "Ponomariov, Ruslan",
           1623
          ],
          [
           "Meier, Georg",
           1386
          ],
          [
           "Leko, Peter",
           1365
          ],
          [
           "Moskalenko, Viktor",
           1166
          ],
          [
           "Dorfman, Iossif",
           723
          ],
          [
           "Bangiev, Alexander",
           339
          ],
          [
           "Andersson, Ulf",
           339
          ],
          [
           "Wahls, Matthias",
           286
          ],
          [
           "Hansen, Lars Bo",
           266
          ],
          [
           "Hansen, L.",
           101
          ]
         ],
         "hovertemplate": "player_type=Theorist<br>PC1=%{x}<br>PC2=%{y}<br>PC3=%{z}<br>player_name=%{customdata[0]}<br>num_games=%{customdata[1]}<extra></extra>",
         "legendgroup": "Theorist",
         "marker": {
          "color": "blue",
          "size": 5,
          "symbol": "circle"
         },
         "mode": "markers",
         "name": "Theorist",
         "scene": "scene",
         "showlegend": true,
         "type": "scatter3d",
         "x": {
          "bdata": "O8Kw4g/Jo7+OCTAqLgW+P0WD+/DNsci/RMVCGJGLyL9osmQ/DjbQv2d7+3UC28y/MykF+mYV3L93O6oCZQq+P9Srbt03d5k/bLfIrYpO5D/cW6iCd0LRv/2LhFiJXsQ/zFddC669nz8NKkdbcfjHPw==",
          "dtype": "f8"
         },
         "y": {
          "bdata": "6HRW22672T+i24UtbPbfPwLXq1zA/cS/jVtZf8ypyL/tRBgUqZKVv0Ac4zGTX9A/wi42FBqpzb9cQRmsgnfjPxsaWAMcme0/r47OUqaF2z8gMVdy7w/sPzC9MTkLX+Q/SeTURx9b4j8mktylFuniPw==",
          "dtype": "f8"
         },
         "z": {
          "bdata": "LgFIhlfHwD+1BOlY0GNXP9R5ljTwxrG/K8TmuPteyT9fJz0yGxHJPx7lbDu2isK/EqD5WWDu2j8aK3DMda3Nv/DiZKTWBNk/ru6neVZvsL/kL2yHAdbDv6OPD9nudbC/uSEBRqy4ez+OnBvMCOvfvw==",
          "dtype": "f8"
         }
        },
        {
         "customdata": [
          [
           "Vachier-Lagrave, Maxime",
           2415
          ],
          [
           "Caruana, Fabiano",
           2201
          ],
          [
           "Karjakin, Sergey",
           1848
          ],
          [
           "Ding, Liren",
           1451
          ]
         ],
         "hovertemplate": "player_type=Pragmatist<br>PC1=%{x}<br>PC2=%{y}<br>PC3=%{z}<br>player_name=%{customdata[0]}<br>num_games=%{customdata[1]}<extra></extra>",
         "legendgroup": "Pragmatist",
         "marker": {
          "color": "green",
          "size": 5,
          "symbol": "circle"
         },
         "mode": "markers",
         "name": "Pragmatist",
         "scene": "scene",
         "showlegend": true,
         "type": "scatter3d",
         "x": {
          "bdata": "+wWFysS0wr+G8qbHIGq1v5PE9+UM/9C/+nfaxDpJzb8=",
          "dtype": "f8"
         },
         "y": {
          "bdata": "qYN3hdOd17+VysZt5pTTvyzdRgPL/tK/b/rSgaEe0b8=",
          "dtype": "f8"
         },
         "z": {
          "bdata": "l2gIg2gmgr/jnG7CcvKfPxa/Cg4OUNU/ed5CGQ60lz8=",
          "dtype": "f8"
         }
        }
       ],
       "layout": {
        "legend": {
         "title": {
          "text": "player_type"
         },
         "tracegroupgap": 0
        },
        "scene": {
         "domain": {
          "x": [
           0,
           1
          ],
          "y": [
           0,
           1
          ]
         },
         "xaxis": {
          "title": {
           "text": "PC1"
          }
         },
         "yaxis": {
          "title": {
           "text": "PC2"
          }
         },
         "zaxis": {
          "title": {
           "text": "PC3"
          }
         }
        },
        "template": {
         "data": {
          "bar": [
           {
            "error_x": {
             "color": "#2a3f5f"
            },
            "error_y": {
             "color": "#2a3f5f"
            },
            "marker": {
             "line": {
              "color": "#E5ECF6",
              "width": 0.5
             },
             "pattern": {
              "fillmode": "overlay",
              "size": 10,
              "solidity": 0.2
             }
            },
            "type": "bar"
           }
          ],
          "barpolar": [
           {
            "marker": {
             "line": {
              "color": "#E5ECF6",
              "width": 0.5
             },
             "pattern": {
              "fillmode": "overlay",
              "size": 10,
              "solidity": 0.2
             }
            },
            "type": "barpolar"
           }
          ],
          "carpet": [
           {
            "aaxis": {
             "endlinecolor": "#2a3f5f",
             "gridcolor": "white",
             "linecolor": "white",
             "minorgridcolor": "white",
             "startlinecolor": "#2a3f5f"
            },
            "baxis": {
             "endlinecolor": "#2a3f5f",
             "gridcolor": "white",
             "linecolor": "white",
             "minorgridcolor": "white",
             "startlinecolor": "#2a3f5f"
            },
            "type": "carpet"
           }
          ],
          "choropleth": [
           {
            "colorbar": {
             "outlinewidth": 0,
             "ticks": ""
            },
            "type": "choropleth"
           }
          ],
          "contour": [
           {
            "colorbar": {
             "outlinewidth": 0,
             "ticks": ""
            },
            "colorscale": [
             [
              0,
              "#0d0887"
             ],
             [
              0.1111111111111111,
              "#46039f"
             ],
             [
              0.2222222222222222,
              "#7201a8"
             ],
             [
              0.3333333333333333,
              "#9c179e"
             ],
             [
              0.4444444444444444,
              "#bd3786"
             ],
             [
              0.5555555555555556,
              "#d8576b"
             ],
             [
              0.6666666666666666,
              "#ed7953"
             ],
             [
              0.7777777777777778,
              "#fb9f3a"
             ],
             [
              0.8888888888888888,
              "#fdca26"
             ],
             [
              1,
              "#f0f921"
             ]
            ],
            "type": "contour"
           }
          ],
          "contourcarpet": [
           {
            "colorbar": {
             "outlinewidth": 0,
             "ticks": ""
            },
            "type": "contourcarpet"
           }
          ],
          "heatmap": [
           {
            "colorbar": {
             "outlinewidth": 0,
             "ticks": ""
            },
            "colorscale": [
             [
              0,
              "#0d0887"
             ],
             [
              0.1111111111111111,
              "#46039f"
             ],
             [
              0.2222222222222222,
              "#7201a8"
             ],
             [
              0.3333333333333333,
              "#9c179e"
             ],
             [
              0.4444444444444444,
              "#bd3786"
             ],
             [
              0.5555555555555556,
              "#d8576b"
             ],
             [
              0.6666666666666666,
              "#ed7953"
             ],
             [
              0.7777777777777778,
              "#fb9f3a"
             ],
             [
              0.8888888888888888,
              "#fdca26"
             ],
             [
              1,
              "#f0f921"
             ]
            ],
            "type": "heatmap"
           }
          ],
          "histogram": [
           {
            "marker": {
             "pattern": {
              "fillmode": "overlay",
              "size": 10,
              "solidity": 0.2
             }
            },
            "type": "histogram"
           }
          ],
          "histogram2d": [
           {
            "colorbar": {
             "outlinewidth": 0,
             "ticks": ""
            },
            "colorscale": [
             [
              0,
              "#0d0887"
             ],
             [
              0.1111111111111111,
              "#46039f"
             ],
             [
              0.2222222222222222,
              "#7201a8"
             ],
             [
              0.3333333333333333,
              "#9c179e"
             ],
             [
              0.4444444444444444,
              "#bd3786"
             ],
             [
              0.5555555555555556,
              "#d8576b"
             ],
             [
              0.6666666666666666,
              "#ed7953"
             ],
             [
              0.7777777777777778,
              "#fb9f3a"
             ],
             [
              0.8888888888888888,
              "#fdca26"
             ],
             [
              1,
              "#f0f921"
             ]
            ],
            "type": "histogram2d"
           }
          ],
          "histogram2dcontour": [
           {
            "colorbar": {
             "outlinewidth": 0,
             "ticks": ""
            },
            "colorscale": [
             [
              0,
              "#0d0887"
             ],
             [
              0.1111111111111111,
              "#46039f"
             ],
             [
              0.2222222222222222,
              "#7201a8"
             ],
             [
              0.3333333333333333,
              "#9c179e"
             ],
             [
              0.4444444444444444,
              "#bd3786"
             ],
             [
              0.5555555555555556,
              "#d8576b"
             ],
             [
              0.6666666666666666,
              "#ed7953"
             ],
             [
              0.7777777777777778,
              "#fb9f3a"
             ],
             [
              0.8888888888888888,
              "#fdca26"
             ],
             [
              1,
              "#f0f921"
             ]
            ],
            "type": "histogram2dcontour"
           }
          ],
          "mesh3d": [
           {
            "colorbar": {
             "outlinewidth": 0,
             "ticks": ""
            },
            "type": "mesh3d"
           }
          ],
          "parcoords": [
           {
            "line": {
             "colorbar": {
              "outlinewidth": 0,
              "ticks": ""
             }
            },
            "type": "parcoords"
           }
          ],
          "pie": [
           {
            "automargin": true,
            "type": "pie"
           }
          ],
          "scatter": [
           {
            "fillpattern": {
             "fillmode": "overlay",
             "size": 10,
             "solidity": 0.2
            },
            "type": "scatter"
           }
          ],
          "scatter3d": [
           {
            "line": {
             "colorbar": {
              "outlinewidth": 0,
              "ticks": ""
             }
            },
            "marker": {
             "colorbar": {
              "outlinewidth": 0,
              "ticks": ""
             }
            },
            "type": "scatter3d"
           }
          ],
          "scattercarpet": [
           {
            "marker": {
             "colorbar": {
              "outlinewidth": 0,
              "ticks": ""
             }
            },
            "type": "scattercarpet"
           }
          ],
          "scattergeo": [
           {
            "marker": {
             "colorbar": {
              "outlinewidth": 0,
              "ticks": ""
             }
            },
            "type": "scattergeo"
           }
          ],
          "scattergl": [
           {
            "marker": {
             "colorbar": {
              "outlinewidth": 0,
              "ticks": ""
             }
            },
            "type": "scattergl"
           }
          ],
          "scattermap": [
           {
            "marker": {
             "colorbar": {
              "outlinewidth": 0,
              "ticks": ""
             }
            },
            "type": "scattermap"
           }
          ],
          "scattermapbox": [
           {
            "marker": {
             "colorbar": {
              "outlinewidth": 0,
              "ticks": ""
             }
            },
            "type": "scattermapbox"
           }
          ],
          "scatterpolar": [
           {
            "marker": {
             "colorbar": {
              "outlinewidth": 0,
              "ticks": ""
             }
            },
            "type": "scatterpolar"
           }
          ],
          "scatterpolargl": [
           {
            "marker": {
             "colorbar": {
              "outlinewidth": 0,
              "ticks": ""
             }
            },
            "type": "scatterpolargl"
           }
          ],
          "scatterternary": [
           {
            "marker": {
             "colorbar": {
              "outlinewidth": 0,
              "ticks": ""
             }
            },
            "type": "scatterternary"
           }
          ],
          "surface": [
           {
            "colorbar": {
             "outlinewidth": 0,
             "ticks": ""
            },
            "colorscale": [
             [
              0,
              "#0d0887"
             ],
             [
              0.1111111111111111,
              "#46039f"
             ],
             [
              0.2222222222222222,
              "#7201a8"
             ],
             [
              0.3333333333333333,
              "#9c179e"
             ],
             [
              0.4444444444444444,
              "#bd3786"
             ],
             [
              0.5555555555555556,
              "#d8576b"
             ],
             [
              0.6666666666666666,
              "#ed7953"
             ],
             [
              0.7777777777777778,
              "#fb9f3a"
             ],
             [
              0.8888888888888888,
              "#fdca26"
             ],
             [
              1,
              "#f0f921"
             ]
            ],
            "type": "surface"
           }
          ],
          "table": [
           {
            "cells": {
             "fill": {
              "color": "#EBF0F8"
             },
             "line": {
              "color": "white"
             }
            },
            "header": {
             "fill": {
              "color": "#C8D4E3"
             },
             "line": {
              "color": "white"
             }
            },
            "type": "table"
           }
          ]
         },
         "layout": {
          "annotationdefaults": {
           "arrowcolor": "#2a3f5f",
           "arrowhead": 0,
           "arrowwidth": 1
          },
          "autotypenumbers": "strict",
          "coloraxis": {
           "colorbar": {
            "outlinewidth": 0,
            "ticks": ""
           }
          },
          "colorscale": {
           "diverging": [
            [
             0,
             "#8e0152"
            ],
            [
             0.1,
             "#c51b7d"
            ],
            [
             0.2,
             "#de77ae"
            ],
            [
             0.3,
             "#f1b6da"
            ],
            [
             0.4,
             "#fde0ef"
            ],
            [
             0.5,
             "#f7f7f7"
            ],
            [
             0.6,
             "#e6f5d0"
            ],
            [
             0.7,
             "#b8e186"
            ],
            [
             0.8,
             "#7fbc41"
            ],
            [
             0.9,
             "#4d9221"
            ],
            [
             1,
             "#276419"
            ]
           ],
           "sequential": [
            [
             0,
             "#0d0887"
            ],
            [
             0.1111111111111111,
             "#46039f"
            ],
            [
             0.2222222222222222,
             "#7201a8"
            ],
            [
             0.3333333333333333,
             "#9c179e"
            ],
            [
             0.4444444444444444,
             "#bd3786"
            ],
            [
             0.5555555555555556,
             "#d8576b"
            ],
            [
             0.6666666666666666,
             "#ed7953"
            ],
            [
             0.7777777777777778,
             "#fb9f3a"
            ],
            [
             0.8888888888888888,
             "#fdca26"
            ],
            [
             1,
             "#f0f921"
            ]
           ],
           "sequentialminus": [
            [
             0,
             "#0d0887"
            ],
            [
             0.1111111111111111,
             "#46039f"
            ],
            [
             0.2222222222222222,
             "#7201a8"
            ],
            [
             0.3333333333333333,
             "#9c179e"
            ],
            [
             0.4444444444444444,
             "#bd3786"
            ],
            [
             0.5555555555555556,
             "#d8576b"
            ],
            [
             0.6666666666666666,
             "#ed7953"
            ],
            [
             0.7777777777777778,
             "#fb9f3a"
            ],
            [
             0.8888888888888888,
             "#fdca26"
            ],
            [
             1,
             "#f0f921"
            ]
           ]
          },
          "colorway": [
           "#636efa",
           "#EF553B",
           "#00cc96",
           "#ab63fa",
           "#FFA15A",
           "#19d3f3",
           "#FF6692",
           "#B6E880",
           "#FF97FF",
           "#FECB52"
          ],
          "font": {
           "color": "#2a3f5f"
          },
          "geo": {
           "bgcolor": "white",
           "lakecolor": "white",
           "landcolor": "#E5ECF6",
           "showlakes": true,
           "showland": true,
           "subunitcolor": "white"
          },
          "hoverlabel": {
           "align": "left"
          },
          "hovermode": "closest",
          "mapbox": {
           "style": "light"
          },
          "paper_bgcolor": "white",
          "plot_bgcolor": "#E5ECF6",
          "polar": {
           "angularaxis": {
            "gridcolor": "white",
            "linecolor": "white",
            "ticks": ""
           },
           "bgcolor": "#E5ECF6",
           "radialaxis": {
            "gridcolor": "white",
            "linecolor": "white",
            "ticks": ""
           }
          },
          "scene": {
           "xaxis": {
            "backgroundcolor": "#E5ECF6",
            "gridcolor": "white",
            "gridwidth": 2,
            "linecolor": "white",
            "showbackground": true,
            "ticks": "",
            "zerolinecolor": "white"
           },
           "yaxis": {
            "backgroundcolor": "#E5ECF6",
            "gridcolor": "white",
            "gridwidth": 2,
            "linecolor": "white",
            "showbackground": true,
            "ticks": "",
            "zerolinecolor": "white"
           },
           "zaxis": {
            "backgroundcolor": "#E5ECF6",
            "gridcolor": "white",
            "gridwidth": 2,
            "linecolor": "white",
            "showbackground": true,
            "ticks": "",
            "zerolinecolor": "white"
           }
          },
          "shapedefaults": {
           "line": {
            "color": "#2a3f5f"
           }
          },
          "ternary": {
           "aaxis": {
            "gridcolor": "white",
            "linecolor": "white",
            "ticks": ""
           },
           "baxis": {
            "gridcolor": "white",
            "linecolor": "white",
            "ticks": ""
           },
           "bgcolor": "#E5ECF6",
           "caxis": {
            "gridcolor": "white",
            "linecolor": "white",
            "ticks": ""
           }
          },
          "title": {
           "x": 0.05
          },
          "xaxis": {
           "automargin": true,
           "gridcolor": "white",
           "linecolor": "white",
           "ticks": "",
           "title": {
            "standoff": 15
           },
           "zerolinecolor": "white",
           "zerolinewidth": 2
          },
          "yaxis": {
           "automargin": true,
           "gridcolor": "white",
           "linecolor": "white",
           "ticks": "",
           "title": {
            "standoff": 15
           },
           "zerolinecolor": "white",
           "zerolinewidth": 2
          }
         }
        },
        "title": {
         "text": "3D PCA of Player Features - Computer Age"
        }
       }
      }
     },
     "metadata": {},
     "output_type": "display_data"
    },
    {
     "data": {
      "application/vnd.plotly.v1+json": {
       "config": {
        "plotlyServerURL": "https://plot.ly"
       },
       "data": [
        {
         "customdata": [
          [
           "Korchnoi, Viktor",
           1661
          ],
          [
           "Euwe, Max",
           607
          ],
          [
           "Fischer",
           136
          ]
         ],
         "hovertemplate": "player_type=Pragmatist<br>PC1=%{x}<br>PC2=%{y}<br>PC3=%{z}<br>player_name=%{customdata[0]}<br>num_games=%{customdata[1]}<extra></extra>",
         "legendgroup": "Pragmatist",
         "marker": {
          "color": "green",
          "size": 5,
          "symbol": "circle"
         },
         "mode": "markers",
         "name": "Pragmatist",
         "scene": "scene",
         "showlegend": true,
         "type": "scatter3d",
         "x": {
          "bdata": "bW3D01ZNuD/jLx3JUdnhP1D/Pvmqkus/",
          "dtype": "f8"
         },
         "y": {
          "bdata": "EPvgjVD+yD8eUK4hfPyyv3R8PbQpPeS/",
          "dtype": "f8"
         },
         "z": {
          "bdata": "fvy2c1ycvb8AbtbpBtp+v2l0//q8Taq/",
          "dtype": "f8"
         }
        },
        {
         "customdata": [
          [
           "Taimanov, Mark E",
           796
          ],
          [
           "Alekhine, Alexander",
           657
          ],
          [
           "Tal, Mikhail",
           570
          ],
          [
           "Larsen, Bent",
           555
          ],
          [
           "Spassky, Boris V.",
           541
          ],
          [
           "Bronstein, David I",
           422
          ],
          [
           "Anderssen, Adolf",
           302
          ],
          [
           "Pillsbury, Harry",
           197
          ]
         ],
         "hovertemplate": "player_type=Activist<br>PC1=%{x}<br>PC2=%{y}<br>PC3=%{z}<br>player_name=%{customdata[0]}<br>num_games=%{customdata[1]}<extra></extra>",
         "legendgroup": "Activist",
         "marker": {
          "color": "red",
          "size": 5,
          "symbol": "circle"
         },
         "mode": "markers",
         "name": "Activist",
         "scene": "scene",
         "showlegend": true,
         "type": "scatter3d",
         "x": {
          "bdata": "pkeQGF4ytT+PTy+jDm7yP7RO0j8u7+Q/sNW9eMUu1j+VUZnI/UDUP/DeDBApg+A/oISTcar69j9jsraYbjv2Pw==",
          "dtype": "f8"
         },
         "y": {
          "bdata": "enoeD16b6T+ZlCveejjPv7HYO25znKS/VtsPsET21j+gj+hqWOvWP1ppknHzXM0/rUqlThj34L9pqi1nb3zXvw==",
          "dtype": "f8"
         },
         "z": {
          "bdata": "k9IqYyoz1L+ODVp1AkmxvwH5rZs7Z9M/IFmKEeLq1r+pUOhLxJfYP2eZf+68z5w/GowxFXV8mL825bFueI6RPw==",
          "dtype": "f8"
         }
        },
        {
         "customdata": [
          [
           "Capablanca, Jose",
           717
          ],
          [
           "Petrosian",
           410
          ],
          [
           "Smyslov",
           310
          ]
         ],
         "hovertemplate": "player_type=Reflector<br>PC1=%{x}<br>PC2=%{y}<br>PC3=%{z}<br>player_name=%{customdata[0]}<br>num_games=%{customdata[1]}<extra></extra>",
         "legendgroup": "Reflector",
         "marker": {
          "color": "purple",
          "size": 5,
          "symbol": "circle"
         },
         "mode": "markers",
         "name": "Reflector",
         "scene": "scene",
         "showlegend": true,
         "type": "scatter3d",
         "x": {
          "bdata": "+FLDYLQn5j9xyWPEwL7QP4g6kolErMA/",
          "dtype": "f8"
         },
         "y": {
          "bdata": "ukhWmU/00L/c9d+hjUfrP/Mh3jRC2uI/",
          "dtype": "f8"
         },
         "z": {
          "bdata": "DTjZRulX0799W6TnuFW/P1119sAfSpE/",
          "dtype": "f8"
         }
        },
        {
         "customdata": [
          [
           "Botvinnik, Mikhail URS",
           335
          ],
          [
           "Steinitz, Wilhelm",
           302
          ],
          [
           "Tarrasch, Siegbert",
           230
          ],
          [
           "Nimzowitsch, Aron",
           226
          ]
         ],
         "hovertemplate": "player_type=Theorist<br>PC1=%{x}<br>PC2=%{y}<br>PC3=%{z}<br>player_name=%{customdata[0]}<br>num_games=%{customdata[1]}<extra></extra>",
         "legendgroup": "Theorist",
         "marker": {
          "color": "blue",
          "size": 5,
          "symbol": "circle"
         },
         "mode": "markers",
         "name": "Theorist",
         "scene": "scene",
         "showlegend": true,
         "type": "scatter3d",
         "x": {
          "bdata": "gQ8m3HA12z/LSRJfRdH4PyXNSzeBPPU/6tndZMcu6D8=",
          "dtype": "f8"
         },
         "y": {
          "bdata": "6T29AZuQ4j9xrzvY0JDYv+QD+2iPH9a/t9ipByltsL8=",
          "dtype": "f8"
         },
         "z": {
          "bdata": "Zjr3VyYUxb8dar0xrVi1P985qZIR07g/DRf63rEB2r8=",
          "dtype": "f8"
         }
        }
       ],
       "layout": {
        "legend": {
         "title": {
          "text": "player_type"
         },
         "tracegroupgap": 0
        },
        "scene": {
         "domain": {
          "x": [
           0,
           1
          ],
          "y": [
           0,
           1
          ]
         },
         "xaxis": {
          "title": {
           "text": "PC1"
          }
         },
         "yaxis": {
          "title": {
           "text": "PC2"
          }
         },
         "zaxis": {
          "title": {
           "text": "PC3"
          }
         }
        },
        "template": {
         "data": {
          "bar": [
           {
            "error_x": {
             "color": "#2a3f5f"
            },
            "error_y": {
             "color": "#2a3f5f"
            },
            "marker": {
             "line": {
              "color": "#E5ECF6",
              "width": 0.5
             },
             "pattern": {
              "fillmode": "overlay",
              "size": 10,
              "solidity": 0.2
             }
            },
            "type": "bar"
           }
          ],
          "barpolar": [
           {
            "marker": {
             "line": {
              "color": "#E5ECF6",
              "width": 0.5
             },
             "pattern": {
              "fillmode": "overlay",
              "size": 10,
              "solidity": 0.2
             }
            },
            "type": "barpolar"
           }
          ],
          "carpet": [
           {
            "aaxis": {
             "endlinecolor": "#2a3f5f",
             "gridcolor": "white",
             "linecolor": "white",
             "minorgridcolor": "white",
             "startlinecolor": "#2a3f5f"
            },
            "baxis": {
             "endlinecolor": "#2a3f5f",
             "gridcolor": "white",
             "linecolor": "white",
             "minorgridcolor": "white",
             "startlinecolor": "#2a3f5f"
            },
            "type": "carpet"
           }
          ],
          "choropleth": [
           {
            "colorbar": {
             "outlinewidth": 0,
             "ticks": ""
            },
            "type": "choropleth"
           }
          ],
          "contour": [
           {
            "colorbar": {
             "outlinewidth": 0,
             "ticks": ""
            },
            "colorscale": [
             [
              0,
              "#0d0887"
             ],
             [
              0.1111111111111111,
              "#46039f"
             ],
             [
              0.2222222222222222,
              "#7201a8"
             ],
             [
              0.3333333333333333,
              "#9c179e"
             ],
             [
              0.4444444444444444,
              "#bd3786"
             ],
             [
              0.5555555555555556,
              "#d8576b"
             ],
             [
              0.6666666666666666,
              "#ed7953"
             ],
             [
              0.7777777777777778,
              "#fb9f3a"
             ],
             [
              0.8888888888888888,
              "#fdca26"
             ],
             [
              1,
              "#f0f921"
             ]
            ],
            "type": "contour"
           }
          ],
          "contourcarpet": [
           {
            "colorbar": {
             "outlinewidth": 0,
             "ticks": ""
            },
            "type": "contourcarpet"
           }
          ],
          "heatmap": [
           {
            "colorbar": {
             "outlinewidth": 0,
             "ticks": ""
            },
            "colorscale": [
             [
              0,
              "#0d0887"
             ],
             [
              0.1111111111111111,
              "#46039f"
             ],
             [
              0.2222222222222222,
              "#7201a8"
             ],
             [
              0.3333333333333333,
              "#9c179e"
             ],
             [
              0.4444444444444444,
              "#bd3786"
             ],
             [
              0.5555555555555556,
              "#d8576b"
             ],
             [
              0.6666666666666666,
              "#ed7953"
             ],
             [
              0.7777777777777778,
              "#fb9f3a"
             ],
             [
              0.8888888888888888,
              "#fdca26"
             ],
             [
              1,
              "#f0f921"
             ]
            ],
            "type": "heatmap"
           }
          ],
          "histogram": [
           {
            "marker": {
             "pattern": {
              "fillmode": "overlay",
              "size": 10,
              "solidity": 0.2
             }
            },
            "type": "histogram"
           }
          ],
          "histogram2d": [
           {
            "colorbar": {
             "outlinewidth": 0,
             "ticks": ""
            },
            "colorscale": [
             [
              0,
              "#0d0887"
             ],
             [
              0.1111111111111111,
              "#46039f"
             ],
             [
              0.2222222222222222,
              "#7201a8"
             ],
             [
              0.3333333333333333,
              "#9c179e"
             ],
             [
              0.4444444444444444,
              "#bd3786"
             ],
             [
              0.5555555555555556,
              "#d8576b"
             ],
             [
              0.6666666666666666,
              "#ed7953"
             ],
             [
              0.7777777777777778,
              "#fb9f3a"
             ],
             [
              0.8888888888888888,
              "#fdca26"
             ],
             [
              1,
              "#f0f921"
             ]
            ],
            "type": "histogram2d"
           }
          ],
          "histogram2dcontour": [
           {
            "colorbar": {
             "outlinewidth": 0,
             "ticks": ""
            },
            "colorscale": [
             [
              0,
              "#0d0887"
             ],
             [
              0.1111111111111111,
              "#46039f"
             ],
             [
              0.2222222222222222,
              "#7201a8"
             ],
             [
              0.3333333333333333,
              "#9c179e"
             ],
             [
              0.4444444444444444,
              "#bd3786"
             ],
             [
              0.5555555555555556,
              "#d8576b"
             ],
             [
              0.6666666666666666,
              "#ed7953"
             ],
             [
              0.7777777777777778,
              "#fb9f3a"
             ],
             [
              0.8888888888888888,
              "#fdca26"
             ],
             [
              1,
              "#f0f921"
             ]
            ],
            "type": "histogram2dcontour"
           }
          ],
          "mesh3d": [
           {
            "colorbar": {
             "outlinewidth": 0,
             "ticks": ""
            },
            "type": "mesh3d"
           }
          ],
          "parcoords": [
           {
            "line": {
             "colorbar": {
              "outlinewidth": 0,
              "ticks": ""
             }
            },
            "type": "parcoords"
           }
          ],
          "pie": [
           {
            "automargin": true,
            "type": "pie"
           }
          ],
          "scatter": [
           {
            "fillpattern": {
             "fillmode": "overlay",
             "size": 10,
             "solidity": 0.2
            },
            "type": "scatter"
           }
          ],
          "scatter3d": [
           {
            "line": {
             "colorbar": {
              "outlinewidth": 0,
              "ticks": ""
             }
            },
            "marker": {
             "colorbar": {
              "outlinewidth": 0,
              "ticks": ""
             }
            },
            "type": "scatter3d"
           }
          ],
          "scattercarpet": [
           {
            "marker": {
             "colorbar": {
              "outlinewidth": 0,
              "ticks": ""
             }
            },
            "type": "scattercarpet"
           }
          ],
          "scattergeo": [
           {
            "marker": {
             "colorbar": {
              "outlinewidth": 0,
              "ticks": ""
             }
            },
            "type": "scattergeo"
           }
          ],
          "scattergl": [
           {
            "marker": {
             "colorbar": {
              "outlinewidth": 0,
              "ticks": ""
             }
            },
            "type": "scattergl"
           }
          ],
          "scattermap": [
           {
            "marker": {
             "colorbar": {
              "outlinewidth": 0,
              "ticks": ""
             }
            },
            "type": "scattermap"
           }
          ],
          "scattermapbox": [
           {
            "marker": {
             "colorbar": {
              "outlinewidth": 0,
              "ticks": ""
             }
            },
            "type": "scattermapbox"
           }
          ],
          "scatterpolar": [
           {
            "marker": {
             "colorbar": {
              "outlinewidth": 0,
              "ticks": ""
             }
            },
            "type": "scatterpolar"
           }
          ],
          "scatterpolargl": [
           {
            "marker": {
             "colorbar": {
              "outlinewidth": 0,
              "ticks": ""
             }
            },
            "type": "scatterpolargl"
           }
          ],
          "scatterternary": [
           {
            "marker": {
             "colorbar": {
              "outlinewidth": 0,
              "ticks": ""
             }
            },
            "type": "scatterternary"
           }
          ],
          "surface": [
           {
            "colorbar": {
             "outlinewidth": 0,
             "ticks": ""
            },
            "colorscale": [
             [
              0,
              "#0d0887"
             ],
             [
              0.1111111111111111,
              "#46039f"
             ],
             [
              0.2222222222222222,
              "#7201a8"
             ],
             [
              0.3333333333333333,
              "#9c179e"
             ],
             [
              0.4444444444444444,
              "#bd3786"
             ],
             [
              0.5555555555555556,
              "#d8576b"
             ],
             [
              0.6666666666666666,
              "#ed7953"
             ],
             [
              0.7777777777777778,
              "#fb9f3a"
             ],
             [
              0.8888888888888888,
              "#fdca26"
             ],
             [
              1,
              "#f0f921"
             ]
            ],
            "type": "surface"
           }
          ],
          "table": [
           {
            "cells": {
             "fill": {
              "color": "#EBF0F8"
             },
             "line": {
              "color": "white"
             }
            },
            "header": {
             "fill": {
              "color": "#C8D4E3"
             },
             "line": {
              "color": "white"
             }
            },
            "type": "table"
           }
          ]
         },
         "layout": {
          "annotationdefaults": {
           "arrowcolor": "#2a3f5f",
           "arrowhead": 0,
           "arrowwidth": 1
          },
          "autotypenumbers": "strict",
          "coloraxis": {
           "colorbar": {
            "outlinewidth": 0,
            "ticks": ""
           }
          },
          "colorscale": {
           "diverging": [
            [
             0,
             "#8e0152"
            ],
            [
             0.1,
             "#c51b7d"
            ],
            [
             0.2,
             "#de77ae"
            ],
            [
             0.3,
             "#f1b6da"
            ],
            [
             0.4,
             "#fde0ef"
            ],
            [
             0.5,
             "#f7f7f7"
            ],
            [
             0.6,
             "#e6f5d0"
            ],
            [
             0.7,
             "#b8e186"
            ],
            [
             0.8,
             "#7fbc41"
            ],
            [
             0.9,
             "#4d9221"
            ],
            [
             1,
             "#276419"
            ]
           ],
           "sequential": [
            [
             0,
             "#0d0887"
            ],
            [
             0.1111111111111111,
             "#46039f"
            ],
            [
             0.2222222222222222,
             "#7201a8"
            ],
            [
             0.3333333333333333,
             "#9c179e"
            ],
            [
             0.4444444444444444,
             "#bd3786"
            ],
            [
             0.5555555555555556,
             "#d8576b"
            ],
            [
             0.6666666666666666,
             "#ed7953"
            ],
            [
             0.7777777777777778,
             "#fb9f3a"
            ],
            [
             0.8888888888888888,
             "#fdca26"
            ],
            [
             1,
             "#f0f921"
            ]
           ],
           "sequentialminus": [
            [
             0,
             "#0d0887"
            ],
            [
             0.1111111111111111,
             "#46039f"
            ],
            [
             0.2222222222222222,
             "#7201a8"
            ],
            [
             0.3333333333333333,
             "#9c179e"
            ],
            [
             0.4444444444444444,
             "#bd3786"
            ],
            [
             0.5555555555555556,
             "#d8576b"
            ],
            [
             0.6666666666666666,
             "#ed7953"
            ],
            [
             0.7777777777777778,
             "#fb9f3a"
            ],
            [
             0.8888888888888888,
             "#fdca26"
            ],
            [
             1,
             "#f0f921"
            ]
           ]
          },
          "colorway": [
           "#636efa",
           "#EF553B",
           "#00cc96",
           "#ab63fa",
           "#FFA15A",
           "#19d3f3",
           "#FF6692",
           "#B6E880",
           "#FF97FF",
           "#FECB52"
          ],
          "font": {
           "color": "#2a3f5f"
          },
          "geo": {
           "bgcolor": "white",
           "lakecolor": "white",
           "landcolor": "#E5ECF6",
           "showlakes": true,
           "showland": true,
           "subunitcolor": "white"
          },
          "hoverlabel": {
           "align": "left"
          },
          "hovermode": "closest",
          "mapbox": {
           "style": "light"
          },
          "paper_bgcolor": "white",
          "plot_bgcolor": "#E5ECF6",
          "polar": {
           "angularaxis": {
            "gridcolor": "white",
            "linecolor": "white",
            "ticks": ""
           },
           "bgcolor": "#E5ECF6",
           "radialaxis": {
            "gridcolor": "white",
            "linecolor": "white",
            "ticks": ""
           }
          },
          "scene": {
           "xaxis": {
            "backgroundcolor": "#E5ECF6",
            "gridcolor": "white",
            "gridwidth": 2,
            "linecolor": "white",
            "showbackground": true,
            "ticks": "",
            "zerolinecolor": "white"
           },
           "yaxis": {
            "backgroundcolor": "#E5ECF6",
            "gridcolor": "white",
            "gridwidth": 2,
            "linecolor": "white",
            "showbackground": true,
            "ticks": "",
            "zerolinecolor": "white"
           },
           "zaxis": {
            "backgroundcolor": "#E5ECF6",
            "gridcolor": "white",
            "gridwidth": 2,
            "linecolor": "white",
            "showbackground": true,
            "ticks": "",
            "zerolinecolor": "white"
           }
          },
          "shapedefaults": {
           "line": {
            "color": "#2a3f5f"
           }
          },
          "ternary": {
           "aaxis": {
            "gridcolor": "white",
            "linecolor": "white",
            "ticks": ""
           },
           "baxis": {
            "gridcolor": "white",
            "linecolor": "white",
            "ticks": ""
           },
           "bgcolor": "#E5ECF6",
           "caxis": {
            "gridcolor": "white",
            "linecolor": "white",
            "ticks": ""
           }
          },
          "title": {
           "x": 0.05
          },
          "xaxis": {
           "automargin": true,
           "gridcolor": "white",
           "linecolor": "white",
           "ticks": "",
           "title": {
            "standoff": 15
           },
           "zerolinecolor": "white",
           "zerolinewidth": 2
          },
          "yaxis": {
           "automargin": true,
           "gridcolor": "white",
           "linecolor": "white",
           "ticks": "",
           "title": {
            "standoff": 15
           },
           "zerolinecolor": "white",
           "zerolinewidth": 2
          }
         }
        },
        "title": {
         "text": "3D PCA of Player Features - Pre-Computer Age"
        }
       }
      }
     },
     "metadata": {},
     "output_type": "display_data"
    },
    {
     "data": {
      "application/vnd.plotly.v1+json": {
       "config": {
        "plotlyServerURL": "https://plot.ly"
       },
       "data": [
        {
         "customdata": [
          [
           "Nakamura, Hikaru",
           635
          ],
          [
           "Svidler, Peter",
           613
          ],
          [
           "Ivanchuk, Vasyl",
           606
          ],
          [
           "Gelfand, Boris",
           530
          ],
          [
           "Grischuk, Alexander",
           489
          ],
          [
           "So, Wesley",
           480
          ],
          [
           "Mamedyarov, Shakhriyar",
           464
          ],
          [
           "Radjabov, Teimour",
           420
          ],
          [
           "Nepomniachtchi, Ian",
           374
          ],
          [
           "Van Wely, Loek",
           319
          ],
          [
           "Bacrot, Etienne",
           238
          ],
          [
           "Dominguez Perez, Leinier",
           195
          ],
          [
           "Vallejo Pons, Francisco",
           194
          ],
          [
           "Firouzja, Alireza",
           186
          ],
          [
           "Naiditsch, Arkadij",
           183
          ],
          [
           "Short, Nigel D",
           181
          ],
          [
           "Harikrishna, Pentala",
           177
          ],
          [
           "Timman, Jan H",
           171
          ],
          [
           "Navara, David",
           170
          ],
          [
           "Duda,J",
           167
          ],
          [
           "Kasimdzhanov, Rustam",
           162
          ],
          [
           "Kamsky, Gata",
           159
          ],
          [
           "Yusupov, A.",
           154
          ],
          [
           "Bareev, Evgeny",
           152
          ],
          [
           "Dubov,Daniil",
           144
          ],
          [
           "Wang, Hao",
           142
          ],
          [
           "Eljanov, Pavel",
           139
          ],
          [
           "Le, Quang Liem",
           131
          ],
          [
           "Fressinet, Laurent",
           131
          ],
          [
           "Hou, Yifan",
           124
          ],
          [
           "Nisipeanu, Liviu-Dieter",
           122
          ],
          [
           "Rapport, Richard",
           122
          ],
          [
           "Wojtaszek, Radoslaw",
           121
          ],
          [
           "Praggnanandhaa R",
           120
          ],
          [
           "Jakovenko, Dmitry",
           116
          ],
          [
           "Yu, Yangyi",
           116
          ],
          [
           "Dreev, Aleksey",
           113
          ],
          [
           "Vitiugov, Nikita",
           112
          ],
          [
           "Beliavsky, Alexander G",
           112
          ],
          [
           "Piket, Jeroen",
           110
          ],
          [
           "Riemann, Fritz",
           110
          ],
          [
           "Khalifman, Alexander",
           109
          ],
          [
           "Wang, Yue",
           106
          ],
          [
           "Wei, Yi",
           106
          ],
          [
           "McShane, Luke J",
           101
          ],
          [
           "Andreikin, Dmitry",
           100
          ]
         ],
         "hovertemplate": "player_type=Unknown<br>PC1=%{x}<br>PC2=%{y}<br>PC3=%{z}<br>player_name=%{customdata[0]}<br>num_games=%{customdata[1]}<extra></extra>",
         "legendgroup": "Unknown",
         "marker": {
          "color": "gray",
          "size": 5,
          "symbol": "circle"
         },
         "mode": "markers",
         "name": "Unknown",
         "scene": "scene",
         "showlegend": true,
         "type": "scatter3d",
         "x": {
          "bdata": "rZYVsJls1b9mu6mvIODCv/cxLisjBNG/bCWtMtTF2L8GDCEnc+zSv3KZnOLAV96/ei9Mp5L7xb93ER6ix03avy8TJmI6rtK/kfMyKPLd1L9JQrRLnzvRv7H+O/5UvNu/PGyQhnnvub9lrXnBu72/v/sfH8b8vb2/0mWkeYRyuL8mWCAx5APiv0znF8UVF82/ZqBTgqI80b8zbAYHpkLTvxg/6/NUiqA/2vGAiMFot78QUR2DhRG1v6TtrJV2gdO/wM0oeak/ur/q3/FRGvjdv1H0ARF3pdi/IcYzw+q23L+DOK+jqW/Bv0BURFCWYdm/bcyerGOkpD+A1OOaylW2v+ElNhgRf+S/UwBKGKIq0r+aLYxj4z/hv4R24mUCwd6/PWyL0lyy0L+wA1PxTmXLv0Q4pfoRDc+/AFeFoGjWxL8xeKP1z/DlPy3cj5co/da/LJZ2T68O6L+AVqKa/hvZv+p8Z4J8TmI/2pi7OH+u178=",
          "dtype": "f8"
         },
         "y": {
          "bdata": "enNmCKsa1L90JTSACefIv1VRPherro0/qIEltDaxmr+Uw+WqWGOuv59YA76M0dm/h3hm8Z8y2r9lAndTUz+hv+RYibsPjdi/IDUCD6wXwz+Md02R+yymP5WUgNcJYty/J0CBnbAKs78/fibwcrjKv5LCfW6wnuO/fk2TtbkzzT9sosrfClPUv7ykH1WeHa4/v6CeGOz95L8ngFybVIjYv85hu8WhRb4/g9PhKTJ9oj+W9UpYOb/bP5npzTn4Ko0/tkjK6m2swr9DbrxESHHAvyMvA+O5YKa/LBhmQ/461r/jaQtDWLTXP3eOBIZKDtS/7ipZFHBXx79Z2CmCvcSjv4dpxiJrFa6/r4omI6rX178THX+iA/jBv6GyiJ5gUsy/HBsYfHF04j+yISB64yC6PxR4Ks5fK8I/Ni03K7Qn1j/Ow6eefGPiv5v9Uv4H5dg/WgCP9sQ31L+KL7lvfL7dv2dVX+YbfMo/5snAASbxzL8=",
          "dtype": "f8"
         },
         "z": {
          "bdata": "g2P/AbHKsb8Um0M1FZ/ZP19KCxDjWb4/Tfz5Cat+uT/LlrfDqr3IP7wEF4psLKW/ghPIosFVjD84q3QRZAq8P9SmyAcrwr6/TBeN5chEw7+CMOHMmH/DPxCB4ZiRUnW/86nWAI/5yT9B2rRSilXhvyKbNkd+yLk/4XkqyvxSt7/FZDh6r7unv1NFWIoFaZe/Sf/kq7gSxr+BSNBkW/jSvzVogYKoF9s/HIHAN37grT8uLpq1DsmyP/dn1EamNoy/QPRsWhR1078XcKWE+wCqv730i6Ra8rK/oNJBSqhR478DBxTTFYLBP11zkrz8Utq/84oI8JHv2T8KBmegRs6bP6taN9nCM9O/nq5iaG1D1r/F8AsFlv3XPy5KFppRFsa/5hCCPlTzkL+5ecd4VaK4v1tiO5PG+MA/D1XDJgis0j9lt16Fc/PWvyGEZKZNMso/K6BH1Uco0b+EyjGgzmnQv7GXpH7E+7A/asPY451Zw78=",
          "dtype": "f8"
         }
        },
        {
         "customdata": [
          [
           "Bronstein, Luis Marcos",
           443
          ],
          [
           "Muller, K.",
           213
          ]
         ],
         "hovertemplate": "player_type=Activist<br>PC1=%{x}<br>PC2=%{y}<br>PC3=%{z}<br>player_name=%{customdata[0]}<br>num_games=%{customdata[1]}<extra></extra>",
         "legendgroup": "Activist",
         "marker": {
          "color": "red",
          "size": 5,
          "symbol": "circle"
         },
         "mode": "markers",
         "name": "Activist",
         "scene": "scene",
         "showlegend": true,
         "type": "scatter3d",
         "x": {
          "bdata": "YZkgOcU61D9OQ8OfLP7IPw==",
          "dtype": "f8"
         },
         "y": {
          "bdata": "GfpltkRp0T8jvneQdnnSPw==",
          "dtype": "f8"
         },
         "z": {
          "bdata": "Np0u43iaqb+UQPdMjFqnvw==",
          "dtype": "f8"
         }
        }
       ],
       "layout": {
        "legend": {
         "title": {
          "text": "player_type"
         },
         "tracegroupgap": 0
        },
        "scene": {
         "domain": {
          "x": [
           0,
           1
          ],
          "y": [
           0,
           1
          ]
         },
         "xaxis": {
          "title": {
           "text": "PC1"
          }
         },
         "yaxis": {
          "title": {
           "text": "PC2"
          }
         },
         "zaxis": {
          "title": {
           "text": "PC3"
          }
         }
        },
        "template": {
         "data": {
          "bar": [
           {
            "error_x": {
             "color": "#2a3f5f"
            },
            "error_y": {
             "color": "#2a3f5f"
            },
            "marker": {
             "line": {
              "color": "#E5ECF6",
              "width": 0.5
             },
             "pattern": {
              "fillmode": "overlay",
              "size": 10,
              "solidity": 0.2
             }
            },
            "type": "bar"
           }
          ],
          "barpolar": [
           {
            "marker": {
             "line": {
              "color": "#E5ECF6",
              "width": 0.5
             },
             "pattern": {
              "fillmode": "overlay",
              "size": 10,
              "solidity": 0.2
             }
            },
            "type": "barpolar"
           }
          ],
          "carpet": [
           {
            "aaxis": {
             "endlinecolor": "#2a3f5f",
             "gridcolor": "white",
             "linecolor": "white",
             "minorgridcolor": "white",
             "startlinecolor": "#2a3f5f"
            },
            "baxis": {
             "endlinecolor": "#2a3f5f",
             "gridcolor": "white",
             "linecolor": "white",
             "minorgridcolor": "white",
             "startlinecolor": "#2a3f5f"
            },
            "type": "carpet"
           }
          ],
          "choropleth": [
           {
            "colorbar": {
             "outlinewidth": 0,
             "ticks": ""
            },
            "type": "choropleth"
           }
          ],
          "contour": [
           {
            "colorbar": {
             "outlinewidth": 0,
             "ticks": ""
            },
            "colorscale": [
             [
              0,
              "#0d0887"
             ],
             [
              0.1111111111111111,
              "#46039f"
             ],
             [
              0.2222222222222222,
              "#7201a8"
             ],
             [
              0.3333333333333333,
              "#9c179e"
             ],
             [
              0.4444444444444444,
              "#bd3786"
             ],
             [
              0.5555555555555556,
              "#d8576b"
             ],
             [
              0.6666666666666666,
              "#ed7953"
             ],
             [
              0.7777777777777778,
              "#fb9f3a"
             ],
             [
              0.8888888888888888,
              "#fdca26"
             ],
             [
              1,
              "#f0f921"
             ]
            ],
            "type": "contour"
           }
          ],
          "contourcarpet": [
           {
            "colorbar": {
             "outlinewidth": 0,
             "ticks": ""
            },
            "type": "contourcarpet"
           }
          ],
          "heatmap": [
           {
            "colorbar": {
             "outlinewidth": 0,
             "ticks": ""
            },
            "colorscale": [
             [
              0,
              "#0d0887"
             ],
             [
              0.1111111111111111,
              "#46039f"
             ],
             [
              0.2222222222222222,
              "#7201a8"
             ],
             [
              0.3333333333333333,
              "#9c179e"
             ],
             [
              0.4444444444444444,
              "#bd3786"
             ],
             [
              0.5555555555555556,
              "#d8576b"
             ],
             [
              0.6666666666666666,
              "#ed7953"
             ],
             [
              0.7777777777777778,
              "#fb9f3a"
             ],
             [
              0.8888888888888888,
              "#fdca26"
             ],
             [
              1,
              "#f0f921"
             ]
            ],
            "type": "heatmap"
           }
          ],
          "histogram": [
           {
            "marker": {
             "pattern": {
              "fillmode": "overlay",
              "size": 10,
              "solidity": 0.2
             }
            },
            "type": "histogram"
           }
          ],
          "histogram2d": [
           {
            "colorbar": {
             "outlinewidth": 0,
             "ticks": ""
            },
            "colorscale": [
             [
              0,
              "#0d0887"
             ],
             [
              0.1111111111111111,
              "#46039f"
             ],
             [
              0.2222222222222222,
              "#7201a8"
             ],
             [
              0.3333333333333333,
              "#9c179e"
             ],
             [
              0.4444444444444444,
              "#bd3786"
             ],
             [
              0.5555555555555556,
              "#d8576b"
             ],
             [
              0.6666666666666666,
              "#ed7953"
             ],
             [
              0.7777777777777778,
              "#fb9f3a"
             ],
             [
              0.8888888888888888,
              "#fdca26"
             ],
             [
              1,
              "#f0f921"
             ]
            ],
            "type": "histogram2d"
           }
          ],
          "histogram2dcontour": [
           {
            "colorbar": {
             "outlinewidth": 0,
             "ticks": ""
            },
            "colorscale": [
             [
              0,
              "#0d0887"
             ],
             [
              0.1111111111111111,
              "#46039f"
             ],
             [
              0.2222222222222222,
              "#7201a8"
             ],
             [
              0.3333333333333333,
              "#9c179e"
             ],
             [
              0.4444444444444444,
              "#bd3786"
             ],
             [
              0.5555555555555556,
              "#d8576b"
             ],
             [
              0.6666666666666666,
              "#ed7953"
             ],
             [
              0.7777777777777778,
              "#fb9f3a"
             ],
             [
              0.8888888888888888,
              "#fdca26"
             ],
             [
              1,
              "#f0f921"
             ]
            ],
            "type": "histogram2dcontour"
           }
          ],
          "mesh3d": [
           {
            "colorbar": {
             "outlinewidth": 0,
             "ticks": ""
            },
            "type": "mesh3d"
           }
          ],
          "parcoords": [
           {
            "line": {
             "colorbar": {
              "outlinewidth": 0,
              "ticks": ""
             }
            },
            "type": "parcoords"
           }
          ],
          "pie": [
           {
            "automargin": true,
            "type": "pie"
           }
          ],
          "scatter": [
           {
            "fillpattern": {
             "fillmode": "overlay",
             "size": 10,
             "solidity": 0.2
            },
            "type": "scatter"
           }
          ],
          "scatter3d": [
           {
            "line": {
             "colorbar": {
              "outlinewidth": 0,
              "ticks": ""
             }
            },
            "marker": {
             "colorbar": {
              "outlinewidth": 0,
              "ticks": ""
             }
            },
            "type": "scatter3d"
           }
          ],
          "scattercarpet": [
           {
            "marker": {
             "colorbar": {
              "outlinewidth": 0,
              "ticks": ""
             }
            },
            "type": "scattercarpet"
           }
          ],
          "scattergeo": [
           {
            "marker": {
             "colorbar": {
              "outlinewidth": 0,
              "ticks": ""
             }
            },
            "type": "scattergeo"
           }
          ],
          "scattergl": [
           {
            "marker": {
             "colorbar": {
              "outlinewidth": 0,
              "ticks": ""
             }
            },
            "type": "scattergl"
           }
          ],
          "scattermap": [
           {
            "marker": {
             "colorbar": {
              "outlinewidth": 0,
              "ticks": ""
             }
            },
            "type": "scattermap"
           }
          ],
          "scattermapbox": [
           {
            "marker": {
             "colorbar": {
              "outlinewidth": 0,
              "ticks": ""
             }
            },
            "type": "scattermapbox"
           }
          ],
          "scatterpolar": [
           {
            "marker": {
             "colorbar": {
              "outlinewidth": 0,
              "ticks": ""
             }
            },
            "type": "scatterpolar"
           }
          ],
          "scatterpolargl": [
           {
            "marker": {
             "colorbar": {
              "outlinewidth": 0,
              "ticks": ""
             }
            },
            "type": "scatterpolargl"
           }
          ],
          "scatterternary": [
           {
            "marker": {
             "colorbar": {
              "outlinewidth": 0,
              "ticks": ""
             }
            },
            "type": "scatterternary"
           }
          ],
          "surface": [
           {
            "colorbar": {
             "outlinewidth": 0,
             "ticks": ""
            },
            "colorscale": [
             [
              0,
              "#0d0887"
             ],
             [
              0.1111111111111111,
              "#46039f"
             ],
             [
              0.2222222222222222,
              "#7201a8"
             ],
             [
              0.3333333333333333,
              "#9c179e"
             ],
             [
              0.4444444444444444,
              "#bd3786"
             ],
             [
              0.5555555555555556,
              "#d8576b"
             ],
             [
              0.6666666666666666,
              "#ed7953"
             ],
             [
              0.7777777777777778,
              "#fb9f3a"
             ],
             [
              0.8888888888888888,
              "#fdca26"
             ],
             [
              1,
              "#f0f921"
             ]
            ],
            "type": "surface"
           }
          ],
          "table": [
           {
            "cells": {
             "fill": {
              "color": "#EBF0F8"
             },
             "line": {
              "color": "white"
             }
            },
            "header": {
             "fill": {
              "color": "#C8D4E3"
             },
             "line": {
              "color": "white"
             }
            },
            "type": "table"
           }
          ]
         },
         "layout": {
          "annotationdefaults": {
           "arrowcolor": "#2a3f5f",
           "arrowhead": 0,
           "arrowwidth": 1
          },
          "autotypenumbers": "strict",
          "coloraxis": {
           "colorbar": {
            "outlinewidth": 0,
            "ticks": ""
           }
          },
          "colorscale": {
           "diverging": [
            [
             0,
             "#8e0152"
            ],
            [
             0.1,
             "#c51b7d"
            ],
            [
             0.2,
             "#de77ae"
            ],
            [
             0.3,
             "#f1b6da"
            ],
            [
             0.4,
             "#fde0ef"
            ],
            [
             0.5,
             "#f7f7f7"
            ],
            [
             0.6,
             "#e6f5d0"
            ],
            [
             0.7,
             "#b8e186"
            ],
            [
             0.8,
             "#7fbc41"
            ],
            [
             0.9,
             "#4d9221"
            ],
            [
             1,
             "#276419"
            ]
           ],
           "sequential": [
            [
             0,
             "#0d0887"
            ],
            [
             0.1111111111111111,
             "#46039f"
            ],
            [
             0.2222222222222222,
             "#7201a8"
            ],
            [
             0.3333333333333333,
             "#9c179e"
            ],
            [
             0.4444444444444444,
             "#bd3786"
            ],
            [
             0.5555555555555556,
             "#d8576b"
            ],
            [
             0.6666666666666666,
             "#ed7953"
            ],
            [
             0.7777777777777778,
             "#fb9f3a"
            ],
            [
             0.8888888888888888,
             "#fdca26"
            ],
            [
             1,
             "#f0f921"
            ]
           ],
           "sequentialminus": [
            [
             0,
             "#0d0887"
            ],
            [
             0.1111111111111111,
             "#46039f"
            ],
            [
             0.2222222222222222,
             "#7201a8"
            ],
            [
             0.3333333333333333,
             "#9c179e"
            ],
            [
             0.4444444444444444,
             "#bd3786"
            ],
            [
             0.5555555555555556,
             "#d8576b"
            ],
            [
             0.6666666666666666,
             "#ed7953"
            ],
            [
             0.7777777777777778,
             "#fb9f3a"
            ],
            [
             0.8888888888888888,
             "#fdca26"
            ],
            [
             1,
             "#f0f921"
            ]
           ]
          },
          "colorway": [
           "#636efa",
           "#EF553B",
           "#00cc96",
           "#ab63fa",
           "#FFA15A",
           "#19d3f3",
           "#FF6692",
           "#B6E880",
           "#FF97FF",
           "#FECB52"
          ],
          "font": {
           "color": "#2a3f5f"
          },
          "geo": {
           "bgcolor": "white",
           "lakecolor": "white",
           "landcolor": "#E5ECF6",
           "showlakes": true,
           "showland": true,
           "subunitcolor": "white"
          },
          "hoverlabel": {
           "align": "left"
          },
          "hovermode": "closest",
          "mapbox": {
           "style": "light"
          },
          "paper_bgcolor": "white",
          "plot_bgcolor": "#E5ECF6",
          "polar": {
           "angularaxis": {
            "gridcolor": "white",
            "linecolor": "white",
            "ticks": ""
           },
           "bgcolor": "#E5ECF6",
           "radialaxis": {
            "gridcolor": "white",
            "linecolor": "white",
            "ticks": ""
           }
          },
          "scene": {
           "xaxis": {
            "backgroundcolor": "#E5ECF6",
            "gridcolor": "white",
            "gridwidth": 2,
            "linecolor": "white",
            "showbackground": true,
            "ticks": "",
            "zerolinecolor": "white"
           },
           "yaxis": {
            "backgroundcolor": "#E5ECF6",
            "gridcolor": "white",
            "gridwidth": 2,
            "linecolor": "white",
            "showbackground": true,
            "ticks": "",
            "zerolinecolor": "white"
           },
           "zaxis": {
            "backgroundcolor": "#E5ECF6",
            "gridcolor": "white",
            "gridwidth": 2,
            "linecolor": "white",
            "showbackground": true,
            "ticks": "",
            "zerolinecolor": "white"
           }
          },
          "shapedefaults": {
           "line": {
            "color": "#2a3f5f"
           }
          },
          "ternary": {
           "aaxis": {
            "gridcolor": "white",
            "linecolor": "white",
            "ticks": ""
           },
           "baxis": {
            "gridcolor": "white",
            "linecolor": "white",
            "ticks": ""
           },
           "bgcolor": "#E5ECF6",
           "caxis": {
            "gridcolor": "white",
            "linecolor": "white",
            "ticks": ""
           }
          },
          "title": {
           "x": 0.05
          },
          "xaxis": {
           "automargin": true,
           "gridcolor": "white",
           "linecolor": "white",
           "ticks": "",
           "title": {
            "standoff": 15
           },
           "zerolinecolor": "white",
           "zerolinewidth": 2
          },
          "yaxis": {
           "automargin": true,
           "gridcolor": "white",
           "linecolor": "white",
           "ticks": "",
           "title": {
            "standoff": 15
           },
           "zerolinecolor": "white",
           "zerolinewidth": 2
          }
         }
        },
        "title": {
         "text": "3D PCA of Player Features - Unknown Era"
        }
       }
      }
     },
     "metadata": {},
     "output_type": "display_data"
    },
    {
     "data": {
      "application/vnd.plotly.v1+json": {
       "config": {
        "plotlyServerURL": "https://plot.ly"
       },
       "data": [
        {
         "customdata": [
          [
           "Carlsen, Magnus",
           2856,
           "Computer Age"
          ],
          [
           "Adams, Michael",
           2108,
           "Computer Age"
          ],
          [
           "Karpov, Anatoly",
           1435,
           "Computer Age"
          ],
          [
           "Bischoff, K.",
           1151,
           "Computer Age"
          ],
          [
           "Keymer, Vincent",
           982,
           "Computer Age"
          ]
         ],
         "hovertemplate": "player_type=Reflector<br>era=%{customdata[2]}<br>PC1=%{x}<br>PC2=%{y}<br>PC3=%{z}<br>player_name=%{customdata[0]}<br>num_games=%{customdata[1]}<extra></extra>",
         "legendgroup": "Reflector, Computer Age",
         "marker": {
          "color": "purple",
          "size": 5,
          "symbol": "circle"
         },
         "mode": "markers",
         "name": "Reflector, Computer Age",
         "scene": "scene",
         "showlegend": true,
         "type": "scatter3d",
         "x": {
          "bdata": "zcad2pJSub/4RdQi9SzFv127y9FkU5m/vnxKIcIpsT/b6bu4p2WzPw==",
          "dtype": "f8"
         },
         "y": {
          "bdata": "u0NljFik178qvkPFTabBv8JzVDUkJdI/Zc5hmzWJ9z/aOYOMAajHPw==",
          "dtype": "f8"
         },
         "z": {
          "bdata": "1FnSripSub/N083YSRTbP2Bk8D8LwLM/MTvYQkdeob9tmzQ52tfavw==",
          "dtype": "f8"
         }
        },
        {
         "customdata": [
          [
           "Capablanca, Jose",
           717,
           "Pre-Computer Age"
          ],
          [
           "Petrosian",
           410,
           "Pre-Computer Age"
          ],
          [
           "Smyslov",
           310,
           "Pre-Computer Age"
          ]
         ],
         "hovertemplate": "player_type=Reflector<br>era=%{customdata[2]}<br>PC1=%{x}<br>PC2=%{y}<br>PC3=%{z}<br>player_name=%{customdata[0]}<br>num_games=%{customdata[1]}<extra></extra>",
         "legendgroup": "Reflector, Pre-Computer Age",
         "marker": {
          "color": "purple",
          "size": 5,
          "symbol": "diamond"
         },
         "mode": "markers",
         "name": "Reflector, Pre-Computer Age",
         "scene": "scene",
         "showlegend": true,
         "type": "scatter3d",
         "x": {
          "bdata": "+FLDYLQn5j9xyWPEwL7QP4g6kolErMA/",
          "dtype": "f8"
         },
         "y": {
          "bdata": "ukhWmU/00L/c9d+hjUfrP/Mh3jRC2uI/",
          "dtype": "f8"
         },
         "z": {
          "bdata": "DTjZRulX0799W6TnuFW/P1119sAfSpE/",
          "dtype": "f8"
         }
        },
        {
         "customdata": [
          [
           "Shirov, Alexei",
           2767,
           "Computer Age"
          ],
          [
           "Aronian, Levon",
           2430,
           "Computer Age"
          ],
          [
           "Anand, Viswanathan",
           1898,
           "Computer Age"
          ],
          [
           "Topalov, Veselin",
           1429,
           "Computer Age"
          ],
          [
           "Morozevich, Alexander",
           1344,
           "Computer Age"
          ],
          [
           "Kasparov, Garry",
           1043,
           "Computer Age"
          ],
          [
           "Polgar, Judit",
           781,
           "Computer Age"
          ]
         ],
         "hovertemplate": "player_type=Activist<br>era=%{customdata[2]}<br>PC1=%{x}<br>PC2=%{y}<br>PC3=%{z}<br>player_name=%{customdata[0]}<br>num_games=%{customdata[1]}<extra></extra>",
         "legendgroup": "Activist, Computer Age",
         "marker": {
          "color": "red",
          "size": 5,
          "symbol": "circle"
         },
         "mode": "markers",
         "name": "Activist, Computer Age",
         "scene": "scene",
         "showlegend": true,
         "type": "scatter3d",
         "x": {
          "bdata": "ux4VU8IQxT9t94vzsizKv/IreV3f68u/DEeEBJFmxL/QgUN/TvLEP1JBTvMeFNo/gsnKV8Xyoz8=",
          "dtype": "f8"
         },
         "y": {
          "bdata": "aFl6bA415L9SyKE/PqnIv5WciePUdNC/r9SJvNsjy7+em67p14/Mv/nQbla/X8u/iKyJIb5J178=",
          "dtype": "f8"
         },
         "z": {
          "bdata": "3NErhbPn3T8LnU1yUWmTv4sDrr105eA/eO52xbo2yj+UC2hqqkCzP5H5Kl4oYdQ/3zg4i4kmzj8=",
          "dtype": "f8"
         }
        },
        {
         "customdata": [
          [
           "Taimanov, Mark E",
           796,
           "Pre-Computer Age"
          ],
          [
           "Alekhine, Alexander",
           657,
           "Pre-Computer Age"
          ],
          [
           "Tal, Mikhail",
           570,
           "Pre-Computer Age"
          ],
          [
           "Larsen, Bent",
           555,
           "Pre-Computer Age"
          ],
          [
           "Spassky, Boris V.",
           541,
           "Pre-Computer Age"
          ],
          [
           "Bronstein, David I",
           422,
           "Pre-Computer Age"
          ],
          [
           "Anderssen, Adolf",
           302,
           "Pre-Computer Age"
          ],
          [
           "Pillsbury, Harry",
           197,
           "Pre-Computer Age"
          ]
         ],
         "hovertemplate": "player_type=Activist<br>era=%{customdata[2]}<br>PC1=%{x}<br>PC2=%{y}<br>PC3=%{z}<br>player_name=%{customdata[0]}<br>num_games=%{customdata[1]}<extra></extra>",
         "legendgroup": "Activist, Pre-Computer Age",
         "marker": {
          "color": "red",
          "size": 5,
          "symbol": "diamond"
         },
         "mode": "markers",
         "name": "Activist, Pre-Computer Age",
         "scene": "scene",
         "showlegend": true,
         "type": "scatter3d",
         "x": {
          "bdata": "pkeQGF4ytT+PTy+jDm7yP7RO0j8u7+Q/sNW9eMUu1j+VUZnI/UDUP/DeDBApg+A/oISTcar69j9jsraYbjv2Pw==",
          "dtype": "f8"
         },
         "y": {
          "bdata": "enoeD16b6T+ZlCveejjPv7HYO25znKS/VtsPsET21j+gj+hqWOvWP1ppknHzXM0/rUqlThj34L9pqi1nb3zXvw==",
          "dtype": "f8"
         },
         "z": {
          "bdata": "k9IqYyoz1L+ODVp1AkmxvwH5rZs7Z9M/IFmKEeLq1r+pUOhLxJfYP2eZf+68z5w/GowxFXV8mL825bFueI6RPw==",
          "dtype": "f8"
         }
        },
        {
         "customdata": [
          [
           "Bronstein, Luis Marcos",
           443,
           "Unknown Era"
          ],
          [
           "Muller, K.",
           213,
           "Unknown Era"
          ]
         ],
         "hovertemplate": "player_type=Activist<br>era=%{customdata[2]}<br>PC1=%{x}<br>PC2=%{y}<br>PC3=%{z}<br>player_name=%{customdata[0]}<br>num_games=%{customdata[1]}<extra></extra>",
         "legendgroup": "Activist, Unknown Era",
         "marker": {
          "color": "red",
          "size": 5,
          "symbol": "square"
         },
         "mode": "markers",
         "name": "Activist, Unknown Era",
         "scene": "scene",
         "showlegend": true,
         "type": "scatter3d",
         "x": {
          "bdata": "YZkgOcU61D9OQ8OfLP7IPw==",
          "dtype": "f8"
         },
         "y": {
          "bdata": "GfpltkRp0T8jvneQdnnSPw==",
          "dtype": "f8"
         },
         "z": {
          "bdata": "Np0u43iaqb+UQPdMjFqnvw==",
          "dtype": "f8"
         }
        },
        {
         "customdata": [
          [
           "Tiviakov, Sergei",
           2460,
           "Computer Age"
          ],
          [
           "Sedlak, Nikola",
           2285,
           "Computer Age"
          ],
          [
           "Giri, Anish",
           2163,
           "Computer Age"
          ],
          [
           "Kramnik, Vladimir",
           1829,
           "Computer Age"
          ],
          [
           "Ponomariov, Ruslan",
           1623,
           "Computer Age"
          ],
          [
           "Meier, Georg",
           1386,
           "Computer Age"
          ],
          [
           "Leko, Peter",
           1365,
           "Computer Age"
          ],
          [
           "Moskalenko, Viktor",
           1166,
           "Computer Age"
          ],
          [
           "Dorfman, Iossif",
           723,
           "Computer Age"
          ],
          [
           "Bangiev, Alexander",
           339,
           "Computer Age"
          ],
          [
           "Andersson, Ulf",
           339,
           "Computer Age"
          ],
          [
           "Wahls, Matthias",
           286,
           "Computer Age"
          ],
          [
           "Hansen, Lars Bo",
           266,
           "Computer Age"
          ],
          [
           "Hansen, L.",
           101,
           "Computer Age"
          ]
         ],
         "hovertemplate": "player_type=Theorist<br>era=%{customdata[2]}<br>PC1=%{x}<br>PC2=%{y}<br>PC3=%{z}<br>player_name=%{customdata[0]}<br>num_games=%{customdata[1]}<extra></extra>",
         "legendgroup": "Theorist, Computer Age",
         "marker": {
          "color": "blue",
          "size": 5,
          "symbol": "circle"
         },
         "mode": "markers",
         "name": "Theorist, Computer Age",
         "scene": "scene",
         "showlegend": true,
         "type": "scatter3d",
         "x": {
          "bdata": "O8Kw4g/Jo7+OCTAqLgW+P0WD+/DNsci/RMVCGJGLyL9osmQ/DjbQv2d7+3UC28y/MykF+mYV3L93O6oCZQq+P9Srbt03d5k/bLfIrYpO5D/cW6iCd0LRv/2LhFiJXsQ/zFddC669nz8NKkdbcfjHPw==",
          "dtype": "f8"
         },
         "y": {
          "bdata": "6HRW22672T+i24UtbPbfPwLXq1zA/cS/jVtZf8ypyL/tRBgUqZKVv0Ac4zGTX9A/wi42FBqpzb9cQRmsgnfjPxsaWAMcme0/r47OUqaF2z8gMVdy7w/sPzC9MTkLX+Q/SeTURx9b4j8mktylFuniPw==",
          "dtype": "f8"
         },
         "z": {
          "bdata": "LgFIhlfHwD+1BOlY0GNXP9R5ljTwxrG/K8TmuPteyT9fJz0yGxHJPx7lbDu2isK/EqD5WWDu2j8aK3DMda3Nv/DiZKTWBNk/ru6neVZvsL/kL2yHAdbDv6OPD9nudbC/uSEBRqy4ez+OnBvMCOvfvw==",
          "dtype": "f8"
         }
        },
        {
         "customdata": [
          [
           "Botvinnik, Mikhail URS",
           335,
           "Pre-Computer Age"
          ],
          [
           "Steinitz, Wilhelm",
           302,
           "Pre-Computer Age"
          ],
          [
           "Tarrasch, Siegbert",
           230,
           "Pre-Computer Age"
          ],
          [
           "Nimzowitsch, Aron",
           226,
           "Pre-Computer Age"
          ]
         ],
         "hovertemplate": "player_type=Theorist<br>era=%{customdata[2]}<br>PC1=%{x}<br>PC2=%{y}<br>PC3=%{z}<br>player_name=%{customdata[0]}<br>num_games=%{customdata[1]}<extra></extra>",
         "legendgroup": "Theorist, Pre-Computer Age",
         "marker": {
          "color": "blue",
          "size": 5,
          "symbol": "diamond"
         },
         "mode": "markers",
         "name": "Theorist, Pre-Computer Age",
         "scene": "scene",
         "showlegend": true,
         "type": "scatter3d",
         "x": {
          "bdata": "gQ8m3HA12z/LSRJfRdH4PyXNSzeBPPU/6tndZMcu6D8=",
          "dtype": "f8"
         },
         "y": {
          "bdata": "6T29AZuQ4j9xrzvY0JDYv+QD+2iPH9a/t9ipByltsL8=",
          "dtype": "f8"
         },
         "z": {
          "bdata": "Zjr3VyYUxb8dar0xrVi1P985qZIR07g/DRf63rEB2r8=",
          "dtype": "f8"
         }
        },
        {
         "customdata": [
          [
           "Vachier-Lagrave, Maxime",
           2415,
           "Computer Age"
          ],
          [
           "Caruana, Fabiano",
           2201,
           "Computer Age"
          ],
          [
           "Karjakin, Sergey",
           1848,
           "Computer Age"
          ],
          [
           "Ding, Liren",
           1451,
           "Computer Age"
          ]
         ],
         "hovertemplate": "player_type=Pragmatist<br>era=%{customdata[2]}<br>PC1=%{x}<br>PC2=%{y}<br>PC3=%{z}<br>player_name=%{customdata[0]}<br>num_games=%{customdata[1]}<extra></extra>",
         "legendgroup": "Pragmatist, Computer Age",
         "marker": {
          "color": "green",
          "size": 5,
          "symbol": "circle"
         },
         "mode": "markers",
         "name": "Pragmatist, Computer Age",
         "scene": "scene",
         "showlegend": true,
         "type": "scatter3d",
         "x": {
          "bdata": "+wWFysS0wr+G8qbHIGq1v5PE9+UM/9C/+nfaxDpJzb8=",
          "dtype": "f8"
         },
         "y": {
          "bdata": "qYN3hdOd17+VysZt5pTTvyzdRgPL/tK/b/rSgaEe0b8=",
          "dtype": "f8"
         },
         "z": {
          "bdata": "l2gIg2gmgr/jnG7CcvKfPxa/Cg4OUNU/ed5CGQ60lz8=",
          "dtype": "f8"
         }
        },
        {
         "customdata": [
          [
           "Korchnoi, Viktor",
           1661,
           "Pre-Computer Age"
          ],
          [
           "Euwe, Max",
           607,
           "Pre-Computer Age"
          ],
          [
           "Fischer",
           136,
           "Pre-Computer Age"
          ]
         ],
         "hovertemplate": "player_type=Pragmatist<br>era=%{customdata[2]}<br>PC1=%{x}<br>PC2=%{y}<br>PC3=%{z}<br>player_name=%{customdata[0]}<br>num_games=%{customdata[1]}<extra></extra>",
         "legendgroup": "Pragmatist, Pre-Computer Age",
         "marker": {
          "color": "green",
          "size": 5,
          "symbol": "diamond"
         },
         "mode": "markers",
         "name": "Pragmatist, Pre-Computer Age",
         "scene": "scene",
         "showlegend": true,
         "type": "scatter3d",
         "x": {
          "bdata": "bW3D01ZNuD/jLx3JUdnhP1D/Pvmqkus/",
          "dtype": "f8"
         },
         "y": {
          "bdata": "EPvgjVD+yD8eUK4hfPyyv3R8PbQpPeS/",
          "dtype": "f8"
         },
         "z": {
          "bdata": "fvy2c1ycvb8AbtbpBtp+v2l0//q8Taq/",
          "dtype": "f8"
         }
        },
        {
         "customdata": [
          [
           "Nakamura, Hikaru",
           635,
           "Unknown Era"
          ],
          [
           "Svidler, Peter",
           613,
           "Unknown Era"
          ],
          [
           "Ivanchuk, Vasyl",
           606,
           "Unknown Era"
          ],
          [
           "Gelfand, Boris",
           530,
           "Unknown Era"
          ],
          [
           "Grischuk, Alexander",
           489,
           "Unknown Era"
          ],
          [
           "So, Wesley",
           480,
           "Unknown Era"
          ],
          [
           "Mamedyarov, Shakhriyar",
           464,
           "Unknown Era"
          ],
          [
           "Radjabov, Teimour",
           420,
           "Unknown Era"
          ],
          [
           "Nepomniachtchi, Ian",
           374,
           "Unknown Era"
          ],
          [
           "Van Wely, Loek",
           319,
           "Unknown Era"
          ],
          [
           "Bacrot, Etienne",
           238,
           "Unknown Era"
          ],
          [
           "Dominguez Perez, Leinier",
           195,
           "Unknown Era"
          ],
          [
           "Vallejo Pons, Francisco",
           194,
           "Unknown Era"
          ],
          [
           "Firouzja, Alireza",
           186,
           "Unknown Era"
          ],
          [
           "Naiditsch, Arkadij",
           183,
           "Unknown Era"
          ],
          [
           "Short, Nigel D",
           181,
           "Unknown Era"
          ],
          [
           "Harikrishna, Pentala",
           177,
           "Unknown Era"
          ],
          [
           "Timman, Jan H",
           171,
           "Unknown Era"
          ],
          [
           "Navara, David",
           170,
           "Unknown Era"
          ],
          [
           "Duda,J",
           167,
           "Unknown Era"
          ],
          [
           "Kasimdzhanov, Rustam",
           162,
           "Unknown Era"
          ],
          [
           "Kamsky, Gata",
           159,
           "Unknown Era"
          ],
          [
           "Yusupov, A.",
           154,
           "Unknown Era"
          ],
          [
           "Bareev, Evgeny",
           152,
           "Unknown Era"
          ],
          [
           "Dubov,Daniil",
           144,
           "Unknown Era"
          ],
          [
           "Wang, Hao",
           142,
           "Unknown Era"
          ],
          [
           "Eljanov, Pavel",
           139,
           "Unknown Era"
          ],
          [
           "Le, Quang Liem",
           131,
           "Unknown Era"
          ],
          [
           "Fressinet, Laurent",
           131,
           "Unknown Era"
          ],
          [
           "Hou, Yifan",
           124,
           "Unknown Era"
          ],
          [
           "Nisipeanu, Liviu-Dieter",
           122,
           "Unknown Era"
          ],
          [
           "Rapport, Richard",
           122,
           "Unknown Era"
          ],
          [
           "Wojtaszek, Radoslaw",
           121,
           "Unknown Era"
          ],
          [
           "Praggnanandhaa R",
           120,
           "Unknown Era"
          ],
          [
           "Jakovenko, Dmitry",
           116,
           "Unknown Era"
          ],
          [
           "Yu, Yangyi",
           116,
           "Unknown Era"
          ],
          [
           "Dreev, Aleksey",
           113,
           "Unknown Era"
          ],
          [
           "Vitiugov, Nikita",
           112,
           "Unknown Era"
          ],
          [
           "Beliavsky, Alexander G",
           112,
           "Unknown Era"
          ],
          [
           "Piket, Jeroen",
           110,
           "Unknown Era"
          ],
          [
           "Riemann, Fritz",
           110,
           "Unknown Era"
          ],
          [
           "Khalifman, Alexander",
           109,
           "Unknown Era"
          ],
          [
           "Wang, Yue",
           106,
           "Unknown Era"
          ],
          [
           "Wei, Yi",
           106,
           "Unknown Era"
          ],
          [
           "McShane, Luke J",
           101,
           "Unknown Era"
          ],
          [
           "Andreikin, Dmitry",
           100,
           "Unknown Era"
          ]
         ],
         "hovertemplate": "player_type=Unknown<br>era=%{customdata[2]}<br>PC1=%{x}<br>PC2=%{y}<br>PC3=%{z}<br>player_name=%{customdata[0]}<br>num_games=%{customdata[1]}<extra></extra>",
         "legendgroup": "Unknown, Unknown Era",
         "marker": {
          "color": "gray",
          "size": 5,
          "symbol": "square"
         },
         "mode": "markers",
         "name": "Unknown, Unknown Era",
         "scene": "scene",
         "showlegend": true,
         "type": "scatter3d",
         "x": {
          "bdata": "rZYVsJls1b9mu6mvIODCv/cxLisjBNG/bCWtMtTF2L8GDCEnc+zSv3KZnOLAV96/ei9Mp5L7xb93ER6ix03avy8TJmI6rtK/kfMyKPLd1L9JQrRLnzvRv7H+O/5UvNu/PGyQhnnvub9lrXnBu72/v/sfH8b8vb2/0mWkeYRyuL8mWCAx5APiv0znF8UVF82/ZqBTgqI80b8zbAYHpkLTvxg/6/NUiqA/2vGAiMFot78QUR2DhRG1v6TtrJV2gdO/wM0oeak/ur/q3/FRGvjdv1H0ARF3pdi/IcYzw+q23L+DOK+jqW/Bv0BURFCWYdm/bcyerGOkpD+A1OOaylW2v+ElNhgRf+S/UwBKGKIq0r+aLYxj4z/hv4R24mUCwd6/PWyL0lyy0L+wA1PxTmXLv0Q4pfoRDc+/AFeFoGjWxL8xeKP1z/DlPy3cj5co/da/LJZ2T68O6L+AVqKa/hvZv+p8Z4J8TmI/2pi7OH+u178=",
          "dtype": "f8"
         },
         "y": {
          "bdata": "enNmCKsa1L90JTSACefIv1VRPherro0/qIEltDaxmr+Uw+WqWGOuv59YA76M0dm/h3hm8Z8y2r9lAndTUz+hv+RYibsPjdi/IDUCD6wXwz+Md02R+yymP5WUgNcJYty/J0CBnbAKs78/fibwcrjKv5LCfW6wnuO/fk2TtbkzzT9sosrfClPUv7ykH1WeHa4/v6CeGOz95L8ngFybVIjYv85hu8WhRb4/g9PhKTJ9oj+W9UpYOb/bP5npzTn4Ko0/tkjK6m2swr9DbrxESHHAvyMvA+O5YKa/LBhmQ/461r/jaQtDWLTXP3eOBIZKDtS/7ipZFHBXx79Z2CmCvcSjv4dpxiJrFa6/r4omI6rX178THX+iA/jBv6GyiJ5gUsy/HBsYfHF04j+yISB64yC6PxR4Ks5fK8I/Ni03K7Qn1j/Ow6eefGPiv5v9Uv4H5dg/WgCP9sQ31L+KL7lvfL7dv2dVX+YbfMo/5snAASbxzL8=",
          "dtype": "f8"
         },
         "z": {
          "bdata": "g2P/AbHKsb8Um0M1FZ/ZP19KCxDjWb4/Tfz5Cat+uT/LlrfDqr3IP7wEF4psLKW/ghPIosFVjD84q3QRZAq8P9SmyAcrwr6/TBeN5chEw7+CMOHMmH/DPxCB4ZiRUnW/86nWAI/5yT9B2rRSilXhvyKbNkd+yLk/4XkqyvxSt7/FZDh6r7unv1NFWIoFaZe/Sf/kq7gSxr+BSNBkW/jSvzVogYKoF9s/HIHAN37grT8uLpq1DsmyP/dn1EamNoy/QPRsWhR1078XcKWE+wCqv730i6Ra8rK/oNJBSqhR478DBxTTFYLBP11zkrz8Utq/84oI8JHv2T8KBmegRs6bP6taN9nCM9O/nq5iaG1D1r/F8AsFlv3XPy5KFppRFsa/5hCCPlTzkL+5ecd4VaK4v1tiO5PG+MA/D1XDJgis0j9lt16Fc/PWvyGEZKZNMso/K6BH1Uco0b+EyjGgzmnQv7GXpH7E+7A/asPY451Zw78=",
          "dtype": "f8"
         }
        }
       ],
       "layout": {
        "legend": {
         "title": {
          "text": "player_type, era"
         },
         "tracegroupgap": 0
        },
        "scene": {
         "domain": {
          "x": [
           0,
           1
          ],
          "y": [
           0,
           1
          ]
         },
         "xaxis": {
          "title": {
           "text": "PC1"
          }
         },
         "yaxis": {
          "title": {
           "text": "PC2"
          }
         },
         "zaxis": {
          "title": {
           "text": "PC3"
          }
         }
        },
        "template": {
         "data": {
          "bar": [
           {
            "error_x": {
             "color": "#2a3f5f"
            },
            "error_y": {
             "color": "#2a3f5f"
            },
            "marker": {
             "line": {
              "color": "#E5ECF6",
              "width": 0.5
             },
             "pattern": {
              "fillmode": "overlay",
              "size": 10,
              "solidity": 0.2
             }
            },
            "type": "bar"
           }
          ],
          "barpolar": [
           {
            "marker": {
             "line": {
              "color": "#E5ECF6",
              "width": 0.5
             },
             "pattern": {
              "fillmode": "overlay",
              "size": 10,
              "solidity": 0.2
             }
            },
            "type": "barpolar"
           }
          ],
          "carpet": [
           {
            "aaxis": {
             "endlinecolor": "#2a3f5f",
             "gridcolor": "white",
             "linecolor": "white",
             "minorgridcolor": "white",
             "startlinecolor": "#2a3f5f"
            },
            "baxis": {
             "endlinecolor": "#2a3f5f",
             "gridcolor": "white",
             "linecolor": "white",
             "minorgridcolor": "white",
             "startlinecolor": "#2a3f5f"
            },
            "type": "carpet"
           }
          ],
          "choropleth": [
           {
            "colorbar": {
             "outlinewidth": 0,
             "ticks": ""
            },
            "type": "choropleth"
           }
          ],
          "contour": [
           {
            "colorbar": {
             "outlinewidth": 0,
             "ticks": ""
            },
            "colorscale": [
             [
              0,
              "#0d0887"
             ],
             [
              0.1111111111111111,
              "#46039f"
             ],
             [
              0.2222222222222222,
              "#7201a8"
             ],
             [
              0.3333333333333333,
              "#9c179e"
             ],
             [
              0.4444444444444444,
              "#bd3786"
             ],
             [
              0.5555555555555556,
              "#d8576b"
             ],
             [
              0.6666666666666666,
              "#ed7953"
             ],
             [
              0.7777777777777778,
              "#fb9f3a"
             ],
             [
              0.8888888888888888,
              "#fdca26"
             ],
             [
              1,
              "#f0f921"
             ]
            ],
            "type": "contour"
           }
          ],
          "contourcarpet": [
           {
            "colorbar": {
             "outlinewidth": 0,
             "ticks": ""
            },
            "type": "contourcarpet"
           }
          ],
          "heatmap": [
           {
            "colorbar": {
             "outlinewidth": 0,
             "ticks": ""
            },
            "colorscale": [
             [
              0,
              "#0d0887"
             ],
             [
              0.1111111111111111,
              "#46039f"
             ],
             [
              0.2222222222222222,
              "#7201a8"
             ],
             [
              0.3333333333333333,
              "#9c179e"
             ],
             [
              0.4444444444444444,
              "#bd3786"
             ],
             [
              0.5555555555555556,
              "#d8576b"
             ],
             [
              0.6666666666666666,
              "#ed7953"
             ],
             [
              0.7777777777777778,
              "#fb9f3a"
             ],
             [
              0.8888888888888888,
              "#fdca26"
             ],
             [
              1,
              "#f0f921"
             ]
            ],
            "type": "heatmap"
           }
          ],
          "histogram": [
           {
            "marker": {
             "pattern": {
              "fillmode": "overlay",
              "size": 10,
              "solidity": 0.2
             }
            },
            "type": "histogram"
           }
          ],
          "histogram2d": [
           {
            "colorbar": {
             "outlinewidth": 0,
             "ticks": ""
            },
            "colorscale": [
             [
              0,
              "#0d0887"
             ],
             [
              0.1111111111111111,
              "#46039f"
             ],
             [
              0.2222222222222222,
              "#7201a8"
             ],
             [
              0.3333333333333333,
              "#9c179e"
             ],
             [
              0.4444444444444444,
              "#bd3786"
             ],
             [
              0.5555555555555556,
              "#d8576b"
             ],
             [
              0.6666666666666666,
              "#ed7953"
             ],
             [
              0.7777777777777778,
              "#fb9f3a"
             ],
             [
              0.8888888888888888,
              "#fdca26"
             ],
             [
              1,
              "#f0f921"
             ]
            ],
            "type": "histogram2d"
           }
          ],
          "histogram2dcontour": [
           {
            "colorbar": {
             "outlinewidth": 0,
             "ticks": ""
            },
            "colorscale": [
             [
              0,
              "#0d0887"
             ],
             [
              0.1111111111111111,
              "#46039f"
             ],
             [
              0.2222222222222222,
              "#7201a8"
             ],
             [
              0.3333333333333333,
              "#9c179e"
             ],
             [
              0.4444444444444444,
              "#bd3786"
             ],
             [
              0.5555555555555556,
              "#d8576b"
             ],
             [
              0.6666666666666666,
              "#ed7953"
             ],
             [
              0.7777777777777778,
              "#fb9f3a"
             ],
             [
              0.8888888888888888,
              "#fdca26"
             ],
             [
              1,
              "#f0f921"
             ]
            ],
            "type": "histogram2dcontour"
           }
          ],
          "mesh3d": [
           {
            "colorbar": {
             "outlinewidth": 0,
             "ticks": ""
            },
            "type": "mesh3d"
           }
          ],
          "parcoords": [
           {
            "line": {
             "colorbar": {
              "outlinewidth": 0,
              "ticks": ""
             }
            },
            "type": "parcoords"
           }
          ],
          "pie": [
           {
            "automargin": true,
            "type": "pie"
           }
          ],
          "scatter": [
           {
            "fillpattern": {
             "fillmode": "overlay",
             "size": 10,
             "solidity": 0.2
            },
            "type": "scatter"
           }
          ],
          "scatter3d": [
           {
            "line": {
             "colorbar": {
              "outlinewidth": 0,
              "ticks": ""
             }
            },
            "marker": {
             "colorbar": {
              "outlinewidth": 0,
              "ticks": ""
             }
            },
            "type": "scatter3d"
           }
          ],
          "scattercarpet": [
           {
            "marker": {
             "colorbar": {
              "outlinewidth": 0,
              "ticks": ""
             }
            },
            "type": "scattercarpet"
           }
          ],
          "scattergeo": [
           {
            "marker": {
             "colorbar": {
              "outlinewidth": 0,
              "ticks": ""
             }
            },
            "type": "scattergeo"
           }
          ],
          "scattergl": [
           {
            "marker": {
             "colorbar": {
              "outlinewidth": 0,
              "ticks": ""
             }
            },
            "type": "scattergl"
           }
          ],
          "scattermap": [
           {
            "marker": {
             "colorbar": {
              "outlinewidth": 0,
              "ticks": ""
             }
            },
            "type": "scattermap"
           }
          ],
          "scattermapbox": [
           {
            "marker": {
             "colorbar": {
              "outlinewidth": 0,
              "ticks": ""
             }
            },
            "type": "scattermapbox"
           }
          ],
          "scatterpolar": [
           {
            "marker": {
             "colorbar": {
              "outlinewidth": 0,
              "ticks": ""
             }
            },
            "type": "scatterpolar"
           }
          ],
          "scatterpolargl": [
           {
            "marker": {
             "colorbar": {
              "outlinewidth": 0,
              "ticks": ""
             }
            },
            "type": "scatterpolargl"
           }
          ],
          "scatterternary": [
           {
            "marker": {
             "colorbar": {
              "outlinewidth": 0,
              "ticks": ""
             }
            },
            "type": "scatterternary"
           }
          ],
          "surface": [
           {
            "colorbar": {
             "outlinewidth": 0,
             "ticks": ""
            },
            "colorscale": [
             [
              0,
              "#0d0887"
             ],
             [
              0.1111111111111111,
              "#46039f"
             ],
             [
              0.2222222222222222,
              "#7201a8"
             ],
             [
              0.3333333333333333,
              "#9c179e"
             ],
             [
              0.4444444444444444,
              "#bd3786"
             ],
             [
              0.5555555555555556,
              "#d8576b"
             ],
             [
              0.6666666666666666,
              "#ed7953"
             ],
             [
              0.7777777777777778,
              "#fb9f3a"
             ],
             [
              0.8888888888888888,
              "#fdca26"
             ],
             [
              1,
              "#f0f921"
             ]
            ],
            "type": "surface"
           }
          ],
          "table": [
           {
            "cells": {
             "fill": {
              "color": "#EBF0F8"
             },
             "line": {
              "color": "white"
             }
            },
            "header": {
             "fill": {
              "color": "#C8D4E3"
             },
             "line": {
              "color": "white"
             }
            },
            "type": "table"
           }
          ]
         },
         "layout": {
          "annotationdefaults": {
           "arrowcolor": "#2a3f5f",
           "arrowhead": 0,
           "arrowwidth": 1
          },
          "autotypenumbers": "strict",
          "coloraxis": {
           "colorbar": {
            "outlinewidth": 0,
            "ticks": ""
           }
          },
          "colorscale": {
           "diverging": [
            [
             0,
             "#8e0152"
            ],
            [
             0.1,
             "#c51b7d"
            ],
            [
             0.2,
             "#de77ae"
            ],
            [
             0.3,
             "#f1b6da"
            ],
            [
             0.4,
             "#fde0ef"
            ],
            [
             0.5,
             "#f7f7f7"
            ],
            [
             0.6,
             "#e6f5d0"
            ],
            [
             0.7,
             "#b8e186"
            ],
            [
             0.8,
             "#7fbc41"
            ],
            [
             0.9,
             "#4d9221"
            ],
            [
             1,
             "#276419"
            ]
           ],
           "sequential": [
            [
             0,
             "#0d0887"
            ],
            [
             0.1111111111111111,
             "#46039f"
            ],
            [
             0.2222222222222222,
             "#7201a8"
            ],
            [
             0.3333333333333333,
             "#9c179e"
            ],
            [
             0.4444444444444444,
             "#bd3786"
            ],
            [
             0.5555555555555556,
             "#d8576b"
            ],
            [
             0.6666666666666666,
             "#ed7953"
            ],
            [
             0.7777777777777778,
             "#fb9f3a"
            ],
            [
             0.8888888888888888,
             "#fdca26"
            ],
            [
             1,
             "#f0f921"
            ]
           ],
           "sequentialminus": [
            [
             0,
             "#0d0887"
            ],
            [
             0.1111111111111111,
             "#46039f"
            ],
            [
             0.2222222222222222,
             "#7201a8"
            ],
            [
             0.3333333333333333,
             "#9c179e"
            ],
            [
             0.4444444444444444,
             "#bd3786"
            ],
            [
             0.5555555555555556,
             "#d8576b"
            ],
            [
             0.6666666666666666,
             "#ed7953"
            ],
            [
             0.7777777777777778,
             "#fb9f3a"
            ],
            [
             0.8888888888888888,
             "#fdca26"
            ],
            [
             1,
             "#f0f921"
            ]
           ]
          },
          "colorway": [
           "#636efa",
           "#EF553B",
           "#00cc96",
           "#ab63fa",
           "#FFA15A",
           "#19d3f3",
           "#FF6692",
           "#B6E880",
           "#FF97FF",
           "#FECB52"
          ],
          "font": {
           "color": "#2a3f5f"
          },
          "geo": {
           "bgcolor": "white",
           "lakecolor": "white",
           "landcolor": "#E5ECF6",
           "showlakes": true,
           "showland": true,
           "subunitcolor": "white"
          },
          "hoverlabel": {
           "align": "left"
          },
          "hovermode": "closest",
          "mapbox": {
           "style": "light"
          },
          "paper_bgcolor": "white",
          "plot_bgcolor": "#E5ECF6",
          "polar": {
           "angularaxis": {
            "gridcolor": "white",
            "linecolor": "white",
            "ticks": ""
           },
           "bgcolor": "#E5ECF6",
           "radialaxis": {
            "gridcolor": "white",
            "linecolor": "white",
            "ticks": ""
           }
          },
          "scene": {
           "xaxis": {
            "backgroundcolor": "#E5ECF6",
            "gridcolor": "white",
            "gridwidth": 2,
            "linecolor": "white",
            "showbackground": true,
            "ticks": "",
            "zerolinecolor": "white"
           },
           "yaxis": {
            "backgroundcolor": "#E5ECF6",
            "gridcolor": "white",
            "gridwidth": 2,
            "linecolor": "white",
            "showbackground": true,
            "ticks": "",
            "zerolinecolor": "white"
           },
           "zaxis": {
            "backgroundcolor": "#E5ECF6",
            "gridcolor": "white",
            "gridwidth": 2,
            "linecolor": "white",
            "showbackground": true,
            "ticks": "",
            "zerolinecolor": "white"
           }
          },
          "shapedefaults": {
           "line": {
            "color": "#2a3f5f"
           }
          },
          "ternary": {
           "aaxis": {
            "gridcolor": "white",
            "linecolor": "white",
            "ticks": ""
           },
           "baxis": {
            "gridcolor": "white",
            "linecolor": "white",
            "ticks": ""
           },
           "bgcolor": "#E5ECF6",
           "caxis": {
            "gridcolor": "white",
            "linecolor": "white",
            "ticks": ""
           }
          },
          "title": {
           "x": 0.05
          },
          "xaxis": {
           "automargin": true,
           "gridcolor": "white",
           "linecolor": "white",
           "ticks": "",
           "title": {
            "standoff": 15
           },
           "zerolinecolor": "white",
           "zerolinewidth": 2
          },
          "yaxis": {
           "automargin": true,
           "gridcolor": "white",
           "linecolor": "white",
           "ticks": "",
           "title": {
            "standoff": 15
           },
           "zerolinecolor": "white",
           "zerolinewidth": 2
          }
         }
        },
        "title": {
         "text": "3D PCA of Player Features - All Eras Combined"
        }
       }
      }
     },
     "metadata": {},
     "output_type": "display_data"
    },
    {
     "name": "stdout",
     "output_type": "stream",
     "text": [
      "\n",
      "Calculating Decision Boundary Score for Computer Age:\n",
      "  AUC for Activist: 1.0000\n",
      "  AUC for Pragmatist: 0.4000\n",
      "  AUC for Reflector: 0.2000\n",
      "  AUC for Theorist: 1.0000\n",
      "  Mean AUC Score for Computer Age: 0.6500\n",
      "\n",
      "Calculating Decision Boundary Score for Pre-Computer Age:\n",
      "  AUC for Activist: 0.2500\n",
      "  AUC for Pragmatist: 0.0000\n",
      "  AUC for Reflector: nan\n",
      "  AUC for Theorist: 0.3333\n",
      "  Mean AUC Score for Pre-Computer Age: nan\n",
      "\n",
      "Calculating Decision Boundary Score for Unknown Era:\n",
      "  AUC for Activist: nan\n",
      "  AUC for Unknown: nan\n",
      "  Mean AUC Score for Unknown Era: nan\n",
      "\n",
      "Calculating Combined Decision Boundary Score:\n",
      "  AUC for Activist: 0.6875\n",
      "  AUC for Pragmatist: 0.2222\n",
      "  AUC for Reflector: 0.7407\n",
      "  AUC for Theorist: 0.6848\n",
      "  AUC for Unknown: 0.9143\n",
      "Combined Mean AUC Score: 0.6499\n"
     ]
    }
   ],
   "source": [
    "import pandas as pd\n",
    "import numpy as np\n",
    "import seaborn as sns\n",
    "import matplotlib.pyplot as plt\n",
    "import plotly.express as px\n",
    "\n",
    "from sklearn.ensemble import RandomForestClassifier\n",
    "from sklearn.impute import SimpleImputer\n",
    "from sklearn.preprocessing import MinMaxScaler, LabelEncoder\n",
    "from sklearn.decomposition import PCA\n",
    "from sklearn.model_selection import train_test_split\n",
    "from sklearn.metrics import roc_auc_score\n",
    "\n",
    "import warnings\n",
    "warnings.filterwarnings('ignore')\n",
    "\n",
    "# -------------------------------\n",
    "# Define Known Player Types by Era\n",
    "# -------------------------------\n",
    "activist_pre_computer = [\n",
    "    \"Alekhine\", \"Tal\", \"Spassky\", \"Pillsbury\",\n",
    "    \"Anderssen\", \"Bronstein, David\", \"Larsen\", \"Taimanov\"\n",
    "]\n",
    "\n",
    "activist_computer_age = [\n",
    "    \"Kasparov\", \"Anand\", \"Shirov\", \"Morozevich\",\n",
    "    \"Topalov\", \"Aronian\", \"Polgar\", \"Müller\"\n",
    "]\n",
    "\n",
    "theorist_pre_computer = [\n",
    "    \"Steinitz\", \"Botvinnik\", \"Tarrasch\", \"Nimzowitsch\"\n",
    "]\n",
    "\n",
    "theorist_computer_age = [\n",
    "    \"Kramnik\", \"Leko\", \"Giri\", \"Meier\", \"Andersson\",\n",
    "    \"Sedlak\", \"Tiviakov\", \"Ponomariov\", \"Wahls\",\n",
    "    \"Moskalenko\", \"Dorfman\", \"Bangiev\", \"Hansen\"\n",
    "]\n",
    "\n",
    "reflector_pre_computer = [\n",
    "    \"Capablanca\", \"Smyslov\", \"Petrosian\"\n",
    "]\n",
    "\n",
    "reflector_computer_age = [\n",
    "    \"Karpov\", \"Carlsen\", \"Adams, Michael\", \"Keymer\", \"Bischoff\"\n",
    "]\n",
    "\n",
    "pragmatist_pre_computer = [\n",
    "    \"Fischer\", \"Euwe\", \"Korchnoi\"\n",
    "]\n",
    "\n",
    "pragmatist_computer_age = [\n",
    "    \"Caruana\", \"Ding\", \"Karjakin\", \"Vachier-Lagrave\"\n",
    "]\n",
    "\n",
    "# -------------------------------\n",
    "# Step 1. Aggregate Game-Level Data to Player Level\n",
    "# -------------------------------\n",
    "def aggregate_player_data(players_df, min_games=3):\n",
    "    \"\"\"\n",
    "    Aggregate game-level data into a player-level DataFrame.\n",
    "    Only players with at least `min_games` games are included.\n",
    "    Averages are computed for numeric features.\n",
    "    'None' player types are replaced with 'Unknown'.\n",
    "    \"\"\"\n",
    "    # Identify players with enough games\n",
    "    game_counts = players_df['player_name'].value_counts()\n",
    "    players_with_enough_games = game_counts[game_counts >= min_games].index.tolist()\n",
    "    print(f\"Found {len(players_with_enough_games)} players with at least {min_games} games.\")\n",
    "\n",
    "    # Filter to these players\n",
    "    filtered_df = players_df[players_df['player_name'].isin(players_with_enough_games)].copy()\n",
    "\n",
    "    # Columns that we will ignore for numeric aggregation\n",
    "    ignore_cols = ['player_name', 'player_color', 'opponent_name', 'game_id', 'result', 'player_type']\n",
    "    numeric_cols = [col for col in filtered_df.columns\n",
    "                    if col not in ignore_cols and pd.api.types.is_numeric_dtype(filtered_df[col])]\n",
    "\n",
    "    aggregated_data = []\n",
    "\n",
    "    for player in players_with_enough_games:\n",
    "        # print(f\"{player}\")\n",
    "        player_games = filtered_df[filtered_df['player_name'] == player]\n",
    "        # Get the first non-NaN player_type if available, default to 'Unknown'\n",
    "        if 'player_type' in player_games.columns:\n",
    "            p_type_series = player_games['player_type'].dropna()\n",
    "            p_type = p_type_series.iloc[0] if not p_type_series.empty else 'Unknown'\n",
    "        else:\n",
    "            p_type = 'Unknown'\n",
    "\n",
    "        player_stats = {\n",
    "            'player_name': player,\n",
    "            'player_type': p_type,\n",
    "            'num_games': len(player_games)\n",
    "        }\n",
    "        # Compute averages for each numeric feature\n",
    "        for col in numeric_cols:\n",
    "            player_stats[col] = player_games[col].mean()\n",
    "        aggregated_data.append(player_stats)\n",
    "\n",
    "    agg_df = pd.DataFrame(aggregated_data)\n",
    "    return agg_df\n",
    "\n",
    "# -------------------------------\n",
    "# Step 2. Categorize Players into Pre-Computer and Computer Age Eras\n",
    "# -------------------------------\n",
    "def categorize_players_by_era(agg_df):\n",
    "    \"\"\"\n",
    "    Categorize players into \"Pre-Computer Age\" and \"Computer Age\" based on\n",
    "    their presence in the known player lists.\n",
    "    \"\"\"\n",
    "    # Add era column, default to 'Unknown Era'\n",
    "    agg_df['era'] = 'Unknown Era'\n",
    "    \n",
    "    # For tracking assignment stats\n",
    "    assigned_type_count = 0\n",
    "    assigned_era_count = 0\n",
    "    \n",
    "    # Categorize players by type and era\n",
    "    for idx, player in agg_df.iterrows():\n",
    "        player_name = player['player_name']\n",
    "        original_type = player['player_type']\n",
    "        \n",
    "        # Check all known player categories\n",
    "        if any(name in player_name for name in activist_pre_computer):\n",
    "            agg_df.at[idx, 'player_type'] = 'Activist'\n",
    "            agg_df.at[idx, 'era'] = 'Pre-Computer Age'\n",
    "            if original_type == 'Unknown':\n",
    "                assigned_type_count += 1\n",
    "            assigned_era_count += 1\n",
    "            \n",
    "        elif any(name in player_name for name in activist_computer_age):\n",
    "            agg_df.at[idx, 'player_type'] = 'Activist'\n",
    "            agg_df.at[idx, 'era'] = 'Computer Age'\n",
    "            if original_type == 'Unknown':\n",
    "                assigned_type_count += 1\n",
    "            assigned_era_count += 1\n",
    "            \n",
    "        elif any(name in player_name for name in theorist_pre_computer):\n",
    "            agg_df.at[idx, 'player_type'] = 'Theorist'\n",
    "            agg_df.at[idx, 'era'] = 'Pre-Computer Age'\n",
    "            if original_type == 'Unknown':\n",
    "                assigned_type_count += 1\n",
    "            assigned_era_count += 1\n",
    "            \n",
    "        elif any(name in player_name for name in theorist_computer_age):\n",
    "            agg_df.at[idx, 'player_type'] = 'Theorist'\n",
    "            agg_df.at[idx, 'era'] = 'Computer Age'\n",
    "            if original_type == 'Unknown':\n",
    "                assigned_type_count += 1\n",
    "            assigned_era_count += 1\n",
    "            \n",
    "        elif any(name in player_name for name in reflector_pre_computer):\n",
    "            agg_df.at[idx, 'player_type'] = 'Reflector'\n",
    "            agg_df.at[idx, 'era'] = 'Pre-Computer Age'\n",
    "            if original_type == 'Unknown':\n",
    "                assigned_type_count += 1\n",
    "            assigned_era_count += 1\n",
    "            \n",
    "        elif any(name in player_name for name in reflector_computer_age):\n",
    "            agg_df.at[idx, 'player_type'] = 'Reflector'\n",
    "            agg_df.at[idx, 'era'] = 'Computer Age'\n",
    "            if original_type == 'Unknown':\n",
    "                assigned_type_count += 1\n",
    "            assigned_era_count += 1\n",
    "            \n",
    "        elif any(name in player_name for name in pragmatist_pre_computer):\n",
    "            agg_df.at[idx, 'player_type'] = 'Pragmatist'\n",
    "            agg_df.at[idx, 'era'] = 'Pre-Computer Age'\n",
    "            if original_type == 'Unknown':\n",
    "                assigned_type_count += 1\n",
    "            assigned_era_count += 1\n",
    "            \n",
    "        elif any(name in player_name for name in pragmatist_computer_age):\n",
    "            agg_df.at[idx, 'player_type'] = 'Pragmatist'\n",
    "            agg_df.at[idx, 'era'] = 'Computer Age'\n",
    "            if original_type == 'Unknown':\n",
    "                assigned_type_count += 1\n",
    "            assigned_era_count += 1\n",
    "            \n",
    "        else:\n",
    "            # Try to extract birth/death years from player names if we didn't match a known player\n",
    "            import re\n",
    "            birth_year = None\n",
    "            \n",
    "            # Look for years in parentheses in the player name\n",
    "            year_pattern = r'\\((\\d{4})[-–](\\d{4}|\\?{4}|\\d{0})\\)'\n",
    "            match = re.search(year_pattern, player_name)\n",
    "            \n",
    "            if match:\n",
    "                # Found birth-death years pattern\n",
    "                birth_year = int(match.group(1))\n",
    "                \n",
    "                # Assume a player's prime playing years are ~20-30 years after birth\n",
    "                prime_playing_year = birth_year + 30\n",
    "                if prime_playing_year < 1990:  # 1990 as computer age threshold\n",
    "                    agg_df.at[idx, 'era'] = 'Pre-Computer Age'\n",
    "                    assigned_era_count += 1\n",
    "                else:\n",
    "                    agg_df.at[idx, 'era'] = 'Computer Age'\n",
    "                    assigned_era_count += 1\n",
    "    \n",
    "    # Summary of the categorization\n",
    "    print(f\"\\nAssigned player types for {assigned_type_count} players from provided lists\")\n",
    "    print(f\"Assigned eras for {assigned_era_count} players\")\n",
    "    \n",
    "    era_counts = agg_df['era'].value_counts()\n",
    "    print(\"\\nPlayer Era Categorization:\")\n",
    "    for era, count in era_counts.items():\n",
    "        print(f\"  {era}: {count} players\")\n",
    "    \n",
    "    # Count player types in each era\n",
    "    for era in agg_df['era'].unique():\n",
    "        era_df = agg_df[agg_df['era'] == era]\n",
    "        print(f\"\\nPlayer Types in {era}:\")\n",
    "        type_counts = era_df['player_type'].value_counts()\n",
    "        for player_type, count in type_counts.items():\n",
    "            print(f\"  {player_type}: {count} players\")\n",
    "    \n",
    "    return agg_df\n",
    "\n",
    "# -------------------------------\n",
    "# Step 3. Select Best Features using RandomForest Importance\n",
    "# -------------------------------\n",
    "def select_best_features(agg_df, n_features=15, importance_threshold=0.1):\n",
    "    \"\"\"\n",
    "    Select best numeric features using RandomForestClassifier importance\n",
    "    with 'player_type' as the target.\n",
    "    \"\"\"\n",
    "    metadata = ['player_name', 'player_type', 'num_games', 'era']\n",
    "    numeric_cols = [col for col in agg_df.columns if col not in metadata and pd.api.types.is_numeric_dtype(agg_df[col])]\n",
    "\n",
    "    X = agg_df[numeric_cols]\n",
    "    y = agg_df['player_type']\n",
    "\n",
    "    # Encode player_type as numeric\n",
    "    le = LabelEncoder()\n",
    "    y_encoded = le.fit_transform(y)\n",
    "\n",
    "    # Impute and scale\n",
    "    imputer = SimpleImputer(strategy='mean')\n",
    "    scaler = MinMaxScaler()\n",
    "    X_imputed = imputer.fit_transform(X)\n",
    "    X_scaled = scaler.fit_transform(X_imputed)\n",
    "\n",
    "    # Train RandomForest classifier\n",
    "    rf = RandomForestClassifier(n_estimators=1500, random_state=42)\n",
    "    rf.fit(X_scaled, y_encoded)\n",
    "\n",
    "    importances = rf.feature_importances_\n",
    "    importance_series = pd.Series(importances, index=numeric_cols)\n",
    "\n",
    "    # Normalize importances to the maximum value\n",
    "    importance_series = importance_series / importance_series.max()\n",
    "\n",
    "    # Select features above the importance threshold\n",
    "    selected = importance_series[importance_series > importance_threshold].index.tolist()\n",
    "\n",
    "    # If more than desired n_features, choose the top n_features based on importance\n",
    "    if len(selected) > n_features:\n",
    "        selected = importance_series.sort_values(ascending=False).index[:n_features].tolist()\n",
    "\n",
    "    print(\"\\nSelected features:\", selected)\n",
    "\n",
    "    # Visualize feature importances\n",
    "    plt.figure(figsize=(10, 6))\n",
    "    importance_series.sort_values(ascending=True).plot(kind='barh')\n",
    "    plt.title('Feature Importances')\n",
    "    plt.xlabel('Importance (Normalized)')\n",
    "    plt.ylabel('Feature')\n",
    "    plt.tight_layout()\n",
    "    plt.show()\n",
    "\n",
    "    return selected\n",
    "\n",
    "# -------------------------------\n",
    "# Step 4. Apply PCA to Selected Features\n",
    "# -------------------------------\n",
    "def apply_pca(agg_df, features, n_components=3):\n",
    "    \"\"\"\n",
    "    Scale the selected features, apply PCA and return the transformed data.\n",
    "    \"\"\"\n",
    "    X = agg_df[features]\n",
    "    \n",
    "    # Impute missing values\n",
    "    imputer = SimpleImputer(strategy='mean')\n",
    "    scaler = MinMaxScaler()\n",
    "\n",
    "    X_imputed = imputer.fit_transform(X)\n",
    "    X_scaled = scaler.fit_transform(X_imputed)\n",
    "\n",
    "    pca = PCA(n_components=n_components, random_state=42)\n",
    "    X_pca = pca.fit_transform(X_scaled)\n",
    "\n",
    "    print(f\"PCA explained variance ratios: {pca.explained_variance_ratio_}\")\n",
    "    return X_pca, pca\n",
    "\n",
    "# -------------------------------\n",
    "# Step 5. Visualize 2D PCA Result using Seaborn \n",
    "# -------------------------------\n",
    "def visualize_2d_pca(agg_df, X_pca_2d):\n",
    "    \"\"\"\n",
    "    Visualize 2D PCA result with separate plots for each era, and a combined view.\n",
    "    \"\"\"\n",
    "    pca_df = pd.DataFrame({\n",
    "        'PC1': X_pca_2d[:, 0],\n",
    "        'PC2': X_pca_2d[:, 1],\n",
    "        'player_type': agg_df['player_type'],\n",
    "        'player_name': agg_df['player_name'],\n",
    "        'era': agg_df['era'],\n",
    "        'num_games': agg_df['num_games']\n",
    "    })\n",
    "\n",
    "    # Define color palette for player types\n",
    "    palette = {\n",
    "        'Activist': 'red',\n",
    "        'Theorist': 'blue',\n",
    "        'Pragmatist': 'green',\n",
    "        'Reflector': 'purple',\n",
    "        'Unknown': 'gray'\n",
    "    }\n",
    "    \n",
    "    # Create separate plots for each era\n",
    "    eras = pca_df['era'].unique()\n",
    "    \n",
    "    for era in eras:\n",
    "        era_df = pca_df[pca_df['era'] == era]\n",
    "        \n",
    "        if len(era_df) < 2:  # Skip if not enough players\n",
    "            print(f\"Skipping visualization for {era} (insufficient data)\")\n",
    "            continue\n",
    "            \n",
    "        plt.figure(figsize=(10, 8))\n",
    "        ax = sns.scatterplot(data=era_df, x='PC1', y='PC2', hue='player_type',\n",
    "                         palette=palette, s=100, alpha=0.8)\n",
    "\n",
    "        # Add labels for each point\n",
    "        for i, row in era_df.iterrows():\n",
    "            player_name = row['player_name']\n",
    "            if ', ' in player_name:\n",
    "                last_name = player_name.split(', ')[0]\n",
    "                ax.text(row['PC1'], row['PC2'], last_name, \n",
    "                       horizontalalignment='left', size='x-small', color='black')\n",
    "            else:\n",
    "                ax.text(row['PC1'], row['PC2'], player_name, \n",
    "                       horizontalalignment='left', size='x-small', color='black')\n",
    "\n",
    "        plt.title(f'2D PCA of Top 15 Features - {era}')\n",
    "        plt.xlabel('PC1')\n",
    "        plt.ylabel('PC2')\n",
    "        plt.legend(title='Player Type')\n",
    "        plt.tight_layout()\n",
    "        plt.show()\n",
    "\n",
    "    # Create combined visualization with different markers for each era\n",
    "    plt.figure(figsize=(12, 10))\n",
    "    \n",
    "    # Define markers for eras\n",
    "    markers = {'Pre-Computer Age': 'o', 'Computer Age': '^', 'Unknown Era': 's'}\n",
    "    \n",
    "    # Create a custom legend elements list\n",
    "    from matplotlib.lines import Line2D\n",
    "    legend_elements = []\n",
    "    \n",
    "    # Plot each era and player type combination separately\n",
    "    for era in eras:\n",
    "        for p_type in palette.keys():\n",
    "            # Get the subset of data for this era and player type\n",
    "            subset = pca_df[(pca_df['era'] == era) & (pca_df['player_type'] == p_type)]\n",
    "            if not subset.empty:\n",
    "                plt.scatter(subset['PC1'], subset['PC2'], \n",
    "                           color=palette[p_type], \n",
    "                           marker=markers[era],\n",
    "                           s=100, \n",
    "                           alpha=0.7,\n",
    "                           label=f\"{p_type} ({era})\")\n",
    "                \n",
    "                # Add this combination to the legend\n",
    "                legend_elements.append(\n",
    "                    Line2D([0], [0], marker=markers[era], color='w', \n",
    "                          markerfacecolor=palette[p_type], markersize=10, \n",
    "                          label=f\"{p_type} ({era})\")\n",
    "                )\n",
    "    \n",
    "    # Add player name labels\n",
    "    for i, row in pca_df.iterrows():\n",
    "        player_name = row['player_name']\n",
    "        if ', ' in player_name:\n",
    "            last_name = player_name.split(', ')[0]\n",
    "            plt.text(row['PC1'], row['PC2'], last_name, \n",
    "                   horizontalalignment='left', size='x-small', color='black')\n",
    "        else:\n",
    "            plt.text(row['PC1'], row['PC2'], player_name, \n",
    "                   horizontalalignment='left', size='x-small', color='black')\n",
    "    \n",
    "    plt.title('2D PCA of Top 15 Features - All Eras')\n",
    "    plt.xlabel('PC1')\n",
    "    plt.ylabel('PC2')\n",
    "    plt.legend(handles=legend_elements, loc='best', title=\"Player Types by Era\")\n",
    "    plt.tight_layout()\n",
    "    plt.show()\n",
    "\n",
    "# -------------------------------\n",
    "# Step 6. Create Interactive 3D PCA Visualization\n",
    "# -------------------------------\n",
    "def visualize_3d_pca(agg_df, X_pca_3d):\n",
    "    \"\"\"\n",
    "    Create interactive 3D scatter plots of the PCA result using Plotly Express.\n",
    "    \"\"\"\n",
    "    pca_df = pd.DataFrame({\n",
    "        'PC1': X_pca_3d[:, 0],\n",
    "        'PC2': X_pca_3d[:, 1],\n",
    "        'PC3': X_pca_3d[:, 2],\n",
    "        'player_type': agg_df['player_type'],\n",
    "        'player_name': agg_df['player_name'],\n",
    "        'era': agg_df['era'],\n",
    "        'num_games': agg_df['num_games']\n",
    "    })\n",
    "\n",
    "    # Define color map for player types\n",
    "    color_map = {\n",
    "        'Activist': 'red',\n",
    "        'Theorist': 'blue',\n",
    "        'Pragmatist': 'green',\n",
    "        'Reflector': 'purple',\n",
    "        'Unknown': 'gray'\n",
    "    }\n",
    "\n",
    "    # Create separate plots for each era\n",
    "    for era in pca_df['era'].unique():\n",
    "        era_df = pca_df[pca_df['era'] == era]\n",
    "        \n",
    "        if len(era_df) < 2:  # Skip if not enough players\n",
    "            print(f\"Skipping 3D visualization for {era} (insufficient data)\")\n",
    "            continue\n",
    "        \n",
    "        fig = px.scatter_3d(\n",
    "            era_df,\n",
    "            x='PC1', y='PC2', z='PC3',\n",
    "            color='player_type',\n",
    "            hover_data=['player_name', 'num_games'],\n",
    "            color_discrete_map=color_map,\n",
    "            title=f'3D PCA of Player Features - {era}'\n",
    "        )\n",
    "        fig.update_traces(marker=dict(size=5))\n",
    "        fig.show()\n",
    "    \n",
    "    # Create a combined visualization with both color and symbol\n",
    "    fig = px.scatter_3d(\n",
    "        pca_df,\n",
    "        x='PC1', y='PC2', z='PC3',\n",
    "        color='player_type',\n",
    "        symbol='era',  # Use era for different marker symbols\n",
    "        hover_data=['player_name', 'num_games', 'era'],\n",
    "        color_discrete_map=color_map,\n",
    "        title='3D PCA of Player Features - All Eras Combined'\n",
    "    )\n",
    "    fig.update_traces(marker=dict(size=5))\n",
    "    fig.show()\n",
    "\n",
    "# -------------------------------\n",
    "# Step 7. Calculate Decision Boundary Quality (AUC)\n",
    "# -------------------------------\n",
    "def calculate_decision_boundary_score(agg_df):\n",
    "    \"\"\"\n",
    "    Calculate the Area Under the ROC Curve (AUC) for predicting player_type.\n",
    "    \"\"\"\n",
    "    # Calculate separately for each era\n",
    "    for era in agg_df['era'].unique():\n",
    "        era_df = agg_df[agg_df['era'] == era].copy()\n",
    "        \n",
    "        # Skip if too few samples or not enough player types\n",
    "        if len(era_df) < 10 or era_df['player_type'].nunique() <= 1:\n",
    "            print(f\"Skipping AUC calculation for {era} (insufficient data)\")\n",
    "            continue\n",
    "            \n",
    "        print(f\"\\nCalculating Decision Boundary Score for {era}:\")\n",
    "        \n",
    "        # Encode player types\n",
    "        le = LabelEncoder()\n",
    "        era_df['player_type'] = le.fit_transform(era_df['player_type'])\n",
    "        \n",
    "        # Define features\n",
    "        metadata = ['player_name', 'player_type', 'num_games', 'era']\n",
    "        numeric_cols = [col for col in era_df.columns if col not in metadata and pd.api.types.is_numeric_dtype(era_df[col])]\n",
    "        \n",
    "        X = era_df[numeric_cols]\n",
    "        y = era_df['player_type']\n",
    "        \n",
    "        # Prepare the data\n",
    "        imputer = SimpleImputer(strategy='mean')\n",
    "        scaler = MinMaxScaler()\n",
    "        X_imputed = imputer.fit_transform(X)\n",
    "        X_scaled = scaler.fit_transform(X_imputed)\n",
    "        \n",
    "        # Use stratified sampling to maintain class distribution\n",
    "        try:\n",
    "            X_train, X_test, y_train, y_test = train_test_split(\n",
    "                X_scaled, y, test_size=0.2, random_state=42, stratify=y\n",
    "            )\n",
    "            \n",
    "            # Train RandomForest and get predictions\n",
    "            rf = RandomForestClassifier(n_estimators=100, random_state=42)\n",
    "            rf.fit(X_train, y_train)\n",
    "            y_pred_proba = rf.predict_proba(X_test)\n",
    "            \n",
    "            # Calculate AUC for each class\n",
    "            auc_scores = []\n",
    "            for i in range(len(le.classes_)):\n",
    "                if i < y_pred_proba.shape[1]:\n",
    "                    try:\n",
    "                        auc = roc_auc_score(y_test == i, y_pred_proba[:, i])\n",
    "                        class_name = le.inverse_transform([i])[0]\n",
    "                        print(f\"  AUC for {class_name}: {auc:.4f}\")\n",
    "                        auc_scores.append(auc)\n",
    "                    except ValueError as e:\n",
    "                        print(f\"  Error calculating AUC for class {i}: {e}\")\n",
    "            \n",
    "            if auc_scores:\n",
    "                mean_auc = np.mean(auc_scores)\n",
    "                print(f\"  Mean AUC Score for {era}: {mean_auc:.4f}\")\n",
    "        \n",
    "        except Exception as e:\n",
    "            print(f\"  Could not calculate AUC for {era}: {e}\")\n",
    "    \n",
    "    # Calculate for all players combined\n",
    "    print(\"\\nCalculating Combined Decision Boundary Score:\")\n",
    "    \n",
    "    # Prepare data\n",
    "    agg_df_copy = agg_df.copy()\n",
    "    le = LabelEncoder()\n",
    "    agg_df_copy['player_type'] = le.fit_transform(agg_df_copy['player_type'])\n",
    "\n",
    "    # Select features\n",
    "    metadata = ['player_name', 'player_type', 'num_games', 'era']\n",
    "    numeric_cols = [col for col in agg_df_copy.columns if col not in metadata and pd.api.types.is_numeric_dtype(agg_df_copy[col])]\n",
    "\n",
    "    X = agg_df_copy[numeric_cols]\n",
    "    y = agg_df_copy['player_type']\n",
    "\n",
    "    # Process the data\n",
    "    imputer = SimpleImputer(strategy='mean')\n",
    "    scaler = MinMaxScaler()\n",
    "    X_imputed = imputer.fit_transform(X)\n",
    "    X_scaled = scaler.fit_transform(X_imputed)\n",
    "\n",
    "    # Train/test split with stratification\n",
    "    X_train, X_test, y_train, y_test = train_test_split(\n",
    "        X_scaled, y, test_size=0.3, random_state=42, stratify=y\n",
    "    )\n",
    "\n",
    "    # Train and evaluate\n",
    "    rf = RandomForestClassifier(n_estimators=100, random_state=42)\n",
    "    rf.fit(X_train, y_train)\n",
    "    y_pred_proba = rf.predict_proba(X_test)\n",
    "\n",
    "    # Calculate AUC for each class\n",
    "    auc_scores = []\n",
    "    for i in range(len(le.classes_)):\n",
    "        try:\n",
    "            auc = roc_auc_score(y_test == i, y_pred_proba[:, i])\n",
    "            class_name = le.inverse_transform([i])[0]\n",
    "            print(f\"  AUC for {class_name}: {auc:.4f}\")\n",
    "            auc_scores.append(auc)\n",
    "        except ValueError as e:\n",
    "            print(f\"  Error for class {i}: {e}\")\n",
    "\n",
    "    if auc_scores:\n",
    "        mean_auc = np.mean(auc_scores)\n",
    "        print(f\"Combined Mean AUC Score: {mean_auc:.4f}\")\n",
    "\n",
    "# -------------------------------\n",
    "# Main Function\n",
    "# -------------------------------\n",
    "def main():\n",
    "    # Load the game-level data\n",
    "    input_file = 'player_centric_data.csv'\n",
    "    df = pd.read_csv(input_file)\n",
    "    print(f\"Loaded {len(df)} rows with {len(df.columns)} columns.\")\n",
    "\n",
    "    # Aggregate to player level\n",
    "    agg_df = aggregate_player_data(df, min_games=100)\n",
    "    \n",
    "    # Categorize players into eras\n",
    "    agg_df = categorize_players_by_era(agg_df)\n",
    "\n",
    "    # Select best features\n",
    "    selected_features = select_best_features(agg_df, n_features=15, importance_threshold=0.1)\n",
    "\n",
    "    # Apply PCA\n",
    "    X_pca, pca_model = apply_pca(agg_df, selected_features, n_components=3)\n",
    "\n",
    "    # Visualize PCA results\n",
    "    visualize_2d_pca(agg_df, X_pca[:, :2])\n",
    "    visualize_3d_pca(agg_df, X_pca)\n",
    "\n",
    "    # Calculate decision boundary quality\n",
    "    calculate_decision_boundary_score(agg_df)\n",
    "\n",
    "if __name__ == \"__main__\":\n",
    "    main()"
   ]
  },
  {
   "cell_type": "code",
   "execution_count": null,
   "metadata": {},
   "outputs": [],
   "source": []
  }
 ],
 "metadata": {
  "kernelspec": {
   "display_name": "chess",
   "language": "python",
   "name": "python3"
  },
  "language_info": {
   "codemirror_mode": {
    "name": "ipython",
    "version": 3
   },
   "file_extension": ".py",
   "mimetype": "text/x-python",
   "name": "python",
   "nbconvert_exporter": "python",
   "pygments_lexer": "ipython3",
   "version": "3.12.8"
  }
 },
 "nbformat": 4,
 "nbformat_minor": 2
}
